{
 "cells": [
  {
   "cell_type": "markdown",
   "metadata": {},
   "source": [
    "# Recommendations with IBM\n",
    "\n",
    "In this notebook, you will be putting your recommendation skills to use on real data from the IBM Watson Studio platform. \n",
    "\n",
    "\n",
    "You may either submit your notebook through the workspace here, or you may work from your local machine and submit through the next page.  Either way assure that your code passes the project [RUBRIC](https://review.udacity.com/#!/rubrics/2322/view).  **Please save regularly.**\n",
    "\n",
    "By following the table of contents, you will build out a number of different methods for making recommendations that can be used for different situations. \n",
    "\n",
    "\n",
    "## Table of Contents\n",
    "\n",
    "I. [Exploratory Data Analysis](#Exploratory-Data-Analysis)<br>\n",
    "II. [Rank Based Recommendations](#Rank)<br>\n",
    "III. [User-User Based Collaborative Filtering](#User-User)<br>\n",
    "IV. [Content Based Recommendations (EXTRA - NOT REQUIRED)](#Content-Recs)<br>\n",
    "V. [Matrix Factorization](#Matrix-Fact)<br>\n",
    "VI. [Extras & Concluding](#conclusions)\n",
    "\n",
    "At the end of the notebook, you will find directions for how to submit your work.  Let's get started by importing the necessary libraries and reading in the data."
   ]
  },
  {
   "cell_type": "code",
   "execution_count": 3,
   "metadata": {},
   "outputs": [],
   "source": [
    "import pandas as pd\n",
    "import numpy as np\n",
    "import matplotlib.pyplot as plt\n",
    "import project_tests as t\n",
    "import pickle\n",
    "import re\n",
    "from nltk.tokenize import word_tokenize\n",
    "from nltk.corpus import stopwords\n",
    "from nltk.stem.wordnet import WordNetLemmatizer\n",
    "from sklearn.metrics import f1_score, recall_score, precision_score\n",
    "\n",
    "%matplotlib inline"
   ]
  },
  {
   "cell_type": "code",
   "execution_count": 4,
   "metadata": {},
   "outputs": [
    {
     "data": {
      "text/html": [
       "<div>\n",
       "<style scoped>\n",
       "    .dataframe tbody tr th:only-of-type {\n",
       "        vertical-align: middle;\n",
       "    }\n",
       "\n",
       "    .dataframe tbody tr th {\n",
       "        vertical-align: top;\n",
       "    }\n",
       "\n",
       "    .dataframe thead th {\n",
       "        text-align: right;\n",
       "    }\n",
       "</style>\n",
       "<table border=\"1\" class=\"dataframe\">\n",
       "  <thead>\n",
       "    <tr style=\"text-align: right;\">\n",
       "      <th></th>\n",
       "      <th>article_id</th>\n",
       "      <th>title</th>\n",
       "      <th>email</th>\n",
       "    </tr>\n",
       "  </thead>\n",
       "  <tbody>\n",
       "    <tr>\n",
       "      <th>0</th>\n",
       "      <td>1430.0</td>\n",
       "      <td>using pixiedust for fast, flexible, and easier...</td>\n",
       "      <td>ef5f11f77ba020cd36e1105a00ab868bbdbf7fe7</td>\n",
       "    </tr>\n",
       "    <tr>\n",
       "      <th>1</th>\n",
       "      <td>1314.0</td>\n",
       "      <td>healthcare python streaming application demo</td>\n",
       "      <td>083cbdfa93c8444beaa4c5f5e0f5f9198e4f9e0b</td>\n",
       "    </tr>\n",
       "    <tr>\n",
       "      <th>2</th>\n",
       "      <td>1429.0</td>\n",
       "      <td>use deep learning for image classification</td>\n",
       "      <td>b96a4f2e92d8572034b1e9b28f9ac673765cd074</td>\n",
       "    </tr>\n",
       "    <tr>\n",
       "      <th>3</th>\n",
       "      <td>1338.0</td>\n",
       "      <td>ml optimization using cognitive assistant</td>\n",
       "      <td>06485706b34a5c9bf2a0ecdac41daf7e7654ceb7</td>\n",
       "    </tr>\n",
       "    <tr>\n",
       "      <th>4</th>\n",
       "      <td>1276.0</td>\n",
       "      <td>deploy your python model as a restful api</td>\n",
       "      <td>f01220c46fc92c6e6b161b1849de11faacd7ccb2</td>\n",
       "    </tr>\n",
       "  </tbody>\n",
       "</table>\n",
       "</div>"
      ],
      "text/plain": [
       "   article_id                                              title  \\\n",
       "0      1430.0  using pixiedust for fast, flexible, and easier...   \n",
       "1      1314.0       healthcare python streaming application demo   \n",
       "2      1429.0         use deep learning for image classification   \n",
       "3      1338.0          ml optimization using cognitive assistant   \n",
       "4      1276.0          deploy your python model as a restful api   \n",
       "\n",
       "                                      email  \n",
       "0  ef5f11f77ba020cd36e1105a00ab868bbdbf7fe7  \n",
       "1  083cbdfa93c8444beaa4c5f5e0f5f9198e4f9e0b  \n",
       "2  b96a4f2e92d8572034b1e9b28f9ac673765cd074  \n",
       "3  06485706b34a5c9bf2a0ecdac41daf7e7654ceb7  \n",
       "4  f01220c46fc92c6e6b161b1849de11faacd7ccb2  "
      ]
     },
     "execution_count": 4,
     "metadata": {},
     "output_type": "execute_result"
    }
   ],
   "source": [
    "df = pd.read_csv('data/user-item-interactions.csv')\n",
    "df_content = pd.read_csv('data/articles_community.csv')\n",
    "del df['Unnamed: 0']\n",
    "del df_content['Unnamed: 0']\n",
    "\n",
    "# Show df to get an idea of the data\n",
    "df.head()"
   ]
  },
  {
   "cell_type": "code",
   "execution_count": 5,
   "metadata": {},
   "outputs": [
    {
     "data": {
      "text/html": [
       "<div>\n",
       "<style scoped>\n",
       "    .dataframe tbody tr th:only-of-type {\n",
       "        vertical-align: middle;\n",
       "    }\n",
       "\n",
       "    .dataframe tbody tr th {\n",
       "        vertical-align: top;\n",
       "    }\n",
       "\n",
       "    .dataframe thead th {\n",
       "        text-align: right;\n",
       "    }\n",
       "</style>\n",
       "<table border=\"1\" class=\"dataframe\">\n",
       "  <thead>\n",
       "    <tr style=\"text-align: right;\">\n",
       "      <th></th>\n",
       "      <th>doc_body</th>\n",
       "      <th>doc_description</th>\n",
       "      <th>doc_full_name</th>\n",
       "      <th>doc_status</th>\n",
       "      <th>article_id</th>\n",
       "    </tr>\n",
       "  </thead>\n",
       "  <tbody>\n",
       "    <tr>\n",
       "      <th>0</th>\n",
       "      <td>Skip navigation Sign in SearchLoading...\\r\\n\\r...</td>\n",
       "      <td>Detect bad readings in real time using Python ...</td>\n",
       "      <td>Detect Malfunctioning IoT Sensors with Streami...</td>\n",
       "      <td>Live</td>\n",
       "      <td>0</td>\n",
       "    </tr>\n",
       "    <tr>\n",
       "      <th>1</th>\n",
       "      <td>No Free Hunch Navigation * kaggle.com\\r\\n\\r\\n ...</td>\n",
       "      <td>See the forest, see the trees. Here lies the c...</td>\n",
       "      <td>Communicating data science: A guide to present...</td>\n",
       "      <td>Live</td>\n",
       "      <td>1</td>\n",
       "    </tr>\n",
       "    <tr>\n",
       "      <th>2</th>\n",
       "      <td>☰ * Login\\r\\n * Sign Up\\r\\n\\r\\n * Learning Pat...</td>\n",
       "      <td>Here’s this week’s news in Data Science and Bi...</td>\n",
       "      <td>This Week in Data Science (April 18, 2017)</td>\n",
       "      <td>Live</td>\n",
       "      <td>2</td>\n",
       "    </tr>\n",
       "    <tr>\n",
       "      <th>3</th>\n",
       "      <td>DATALAYER: HIGH THROUGHPUT, LOW LATENCY AT SCA...</td>\n",
       "      <td>Learn how distributed DBs solve the problem of...</td>\n",
       "      <td>DataLayer Conference: Boost the performance of...</td>\n",
       "      <td>Live</td>\n",
       "      <td>3</td>\n",
       "    </tr>\n",
       "    <tr>\n",
       "      <th>4</th>\n",
       "      <td>Skip navigation Sign in SearchLoading...\\r\\n\\r...</td>\n",
       "      <td>This video demonstrates the power of IBM DataS...</td>\n",
       "      <td>Analyze NY Restaurant data using Spark in DSX</td>\n",
       "      <td>Live</td>\n",
       "      <td>4</td>\n",
       "    </tr>\n",
       "  </tbody>\n",
       "</table>\n",
       "</div>"
      ],
      "text/plain": [
       "                                            doc_body  \\\n",
       "0  Skip navigation Sign in SearchLoading...\\r\\n\\r...   \n",
       "1  No Free Hunch Navigation * kaggle.com\\r\\n\\r\\n ...   \n",
       "2  ☰ * Login\\r\\n * Sign Up\\r\\n\\r\\n * Learning Pat...   \n",
       "3  DATALAYER: HIGH THROUGHPUT, LOW LATENCY AT SCA...   \n",
       "4  Skip navigation Sign in SearchLoading...\\r\\n\\r...   \n",
       "\n",
       "                                     doc_description  \\\n",
       "0  Detect bad readings in real time using Python ...   \n",
       "1  See the forest, see the trees. Here lies the c...   \n",
       "2  Here’s this week’s news in Data Science and Bi...   \n",
       "3  Learn how distributed DBs solve the problem of...   \n",
       "4  This video demonstrates the power of IBM DataS...   \n",
       "\n",
       "                                       doc_full_name doc_status  article_id  \n",
       "0  Detect Malfunctioning IoT Sensors with Streami...       Live           0  \n",
       "1  Communicating data science: A guide to present...       Live           1  \n",
       "2         This Week in Data Science (April 18, 2017)       Live           2  \n",
       "3  DataLayer Conference: Boost the performance of...       Live           3  \n",
       "4      Analyze NY Restaurant data using Spark in DSX       Live           4  "
      ]
     },
     "execution_count": 5,
     "metadata": {},
     "output_type": "execute_result"
    }
   ],
   "source": [
    "# Show df_content to get an idea of the data\n",
    "df_content.head()"
   ]
  },
  {
   "cell_type": "markdown",
   "metadata": {},
   "source": [
    "### <a class=\"anchor\" id=\"Exploratory-Data-Analysis\">Part I : Exploratory Data Analysis</a>\n",
    "\n",
    "Use the dictionary and cells below to provide some insight into the descriptive statistics of the data.\n",
    "\n",
    "`1.` What is the distribution of how many articles a user interacts with in the dataset?  Provide a visual and descriptive statistics to assist with giving a look at the number of times each user interacts with an article.  "
   ]
  },
  {
   "cell_type": "code",
   "execution_count": 6,
   "metadata": {},
   "outputs": [],
   "source": [
    "user_article_interaction_ = df.groupby('email').count()[\"article_id\"]"
   ]
  },
  {
   "cell_type": "code",
   "execution_count": 7,
   "metadata": {},
   "outputs": [
    {
     "data": {
      "image/png": "[encoded data removed]",
      "text/plain": [
       "<Figure size 720x432 with 1 Axes>"
      ]
     },
     "metadata": {
      "needs_background": "light"
     },
     "output_type": "display_data"
    }
   ],
   "source": [
    "user_article_interaction = df.groupby('email').count()[\"article_id\"]\n",
    "fig, ax = plt.subplots(figsize=(10,6))\n",
    "ax.hist(user_article_interaction, bins=50, range=(1,85))\n",
    "ax.set_xticks(np.arange(0,85,5))\n",
    "ax.set_yticks(np.arange(0,2200, 200))\n",
    "ax.set_title('Distribution for number of articles users interact with (outliers removed)')\n",
    "ax.grid(which='major', axis='y')\n",
    "plt.show();"
   ]
  },
  {
   "cell_type": "code",
   "execution_count": 8,
   "metadata": {},
   "outputs": [
    {
     "data": {
      "text/plain": [
       "count    5148.000000\n",
       "mean        8.930847\n",
       "std        16.802267\n",
       "min         1.000000\n",
       "25%         1.000000\n",
       "50%         3.000000\n",
       "75%         9.000000\n",
       "max       364.000000\n",
       "Name: article_id, dtype: float64"
      ]
     },
     "execution_count": 8,
     "metadata": {},
     "output_type": "execute_result"
    }
   ],
   "source": [
    "user_article_interaction.describe()"
   ]
  },
  {
   "cell_type": "code",
   "execution_count": 9,
   "metadata": {},
   "outputs": [],
   "source": [
    "# Fill in the median and maximum number of user_article interactios below\n",
    "\n",
    "median_val = user_article_interaction.describe()[5]# 50% of individuals interact with ____ number of articles or fewer.\n",
    "max_views_by_user = user_article_interaction.describe()[-1] # The maximum number of user-article interactions by any 1 user is ______."
   ]
  },
  {
   "cell_type": "markdown",
   "metadata": {},
   "source": [
    "`2.` Explore and remove duplicate articles from the **df_content** dataframe.  "
   ]
  },
  {
   "cell_type": "code",
   "execution_count": 10,
   "metadata": {},
   "outputs": [
    {
     "data": {
      "text/html": [
       "<div>\n",
       "<style scoped>\n",
       "    .dataframe tbody tr th:only-of-type {\n",
       "        vertical-align: middle;\n",
       "    }\n",
       "\n",
       "    .dataframe tbody tr th {\n",
       "        vertical-align: top;\n",
       "    }\n",
       "\n",
       "    .dataframe thead th {\n",
       "        text-align: right;\n",
       "    }\n",
       "</style>\n",
       "<table border=\"1\" class=\"dataframe\">\n",
       "  <thead>\n",
       "    <tr style=\"text-align: right;\">\n",
       "      <th></th>\n",
       "      <th>doc_body</th>\n",
       "      <th>doc_description</th>\n",
       "      <th>doc_full_name</th>\n",
       "      <th>doc_status</th>\n",
       "      <th>article_id</th>\n",
       "    </tr>\n",
       "  </thead>\n",
       "  <tbody>\n",
       "    <tr>\n",
       "      <th>365</th>\n",
       "      <td>Follow Sign in / Sign up Home About Insight Da...</td>\n",
       "      <td>During the seven-week Insight Data Engineering...</td>\n",
       "      <td>Graph-based machine learning</td>\n",
       "      <td>Live</td>\n",
       "      <td>50</td>\n",
       "    </tr>\n",
       "    <tr>\n",
       "      <th>692</th>\n",
       "      <td>Homepage Follow Sign in / Sign up Homepage * H...</td>\n",
       "      <td>One of the earliest documented catalogs was co...</td>\n",
       "      <td>How smart catalogs can turn the big data flood...</td>\n",
       "      <td>Live</td>\n",
       "      <td>221</td>\n",
       "    </tr>\n",
       "    <tr>\n",
       "      <th>761</th>\n",
       "      <td>Homepage Follow Sign in Get started Homepage *...</td>\n",
       "      <td>Today’s world of data science leverages data f...</td>\n",
       "      <td>Using Apache Spark as a parallel processing fr...</td>\n",
       "      <td>Live</td>\n",
       "      <td>398</td>\n",
       "    </tr>\n",
       "    <tr>\n",
       "      <th>970</th>\n",
       "      <td>This video shows you how to construct queries ...</td>\n",
       "      <td>This video shows you how to construct queries ...</td>\n",
       "      <td>Use the Primary Index</td>\n",
       "      <td>Live</td>\n",
       "      <td>577</td>\n",
       "    </tr>\n",
       "    <tr>\n",
       "      <th>971</th>\n",
       "      <td>Homepage Follow Sign in Get started * Home\\r\\n...</td>\n",
       "      <td>If you are like most data scientists, you are ...</td>\n",
       "      <td>Self-service data preparation with IBM Data Re...</td>\n",
       "      <td>Live</td>\n",
       "      <td>232</td>\n",
       "    </tr>\n",
       "  </tbody>\n",
       "</table>\n",
       "</div>"
      ],
      "text/plain": [
       "                                              doc_body  \\\n",
       "365  Follow Sign in / Sign up Home About Insight Da...   \n",
       "692  Homepage Follow Sign in / Sign up Homepage * H...   \n",
       "761  Homepage Follow Sign in Get started Homepage *...   \n",
       "970  This video shows you how to construct queries ...   \n",
       "971  Homepage Follow Sign in Get started * Home\\r\\n...   \n",
       "\n",
       "                                       doc_description  \\\n",
       "365  During the seven-week Insight Data Engineering...   \n",
       "692  One of the earliest documented catalogs was co...   \n",
       "761  Today’s world of data science leverages data f...   \n",
       "970  This video shows you how to construct queries ...   \n",
       "971  If you are like most data scientists, you are ...   \n",
       "\n",
       "                                         doc_full_name doc_status  article_id  \n",
       "365                       Graph-based machine learning       Live          50  \n",
       "692  How smart catalogs can turn the big data flood...       Live         221  \n",
       "761  Using Apache Spark as a parallel processing fr...       Live         398  \n",
       "970                              Use the Primary Index       Live         577  \n",
       "971  Self-service data preparation with IBM Data Re...       Live         232  "
      ]
     },
     "execution_count": 10,
     "metadata": {},
     "output_type": "execute_result"
    }
   ],
   "source": [
    "# Find and explore duplicate articles\n",
    "df_content[df_content['article_id'].duplicated()]"
   ]
  },
  {
   "cell_type": "code",
   "execution_count": 11,
   "metadata": {},
   "outputs": [],
   "source": [
    "# Remove any rows that have the same article_id - only keep the first\n",
    "df_content = df_content[~df_content['article_id'].duplicated()]"
   ]
  },
  {
   "cell_type": "markdown",
   "metadata": {},
   "source": [
    "`3.` Use the cells below to find:\n",
    "\n",
    "**a.** The number of unique articles that have an interaction with a user.  \n",
    "**b.** The number of unique articles in the dataset (whether they have any interactions or not).<br>\n",
    "**c.** The number of unique users in the dataset. (excluding null values) <br>\n",
    "**d.** The number of user-article interactions in the dataset."
   ]
  },
  {
   "cell_type": "code",
   "execution_count": 12,
   "metadata": {},
   "outputs": [
    {
     "name": "stdout",
     "output_type": "stream",
     "text": [
      "The number of unique articles that have at least one interaction:  714\n",
      "The number of unique articles on the IBM platform:  1051\n",
      "The number of unique users:  5148\n",
      "The number of user-article interactions:  45993\n"
     ]
    }
   ],
   "source": [
    "unique_articles = df.article_id.unique().shape[0] \n",
    "print (\"The number of unique articles that have at least one interaction: \", unique_articles)\n",
    "total_articles = len(df_content['article_id'])\n",
    "print( \"The number of unique articles on the IBM platform: \", total_articles)\n",
    "unique_users = df.email.dropna().unique().shape[0] \n",
    "print(\"The number of unique users: \", unique_users)\n",
    "user_article_interactions = len(df) \n",
    "print(\"The number of user-article interactions: \", user_article_interactions)"
   ]
  },
  {
   "cell_type": "markdown",
   "metadata": {},
   "source": [
    "`4.` Use the cells below to find the most viewed **article_id**, as well as how often it was viewed.  After talking to the company leaders, the `email_mapper` function was deemed a reasonable way to map users to ids.  There were a small number of null values, and it was found that all of these null values likely belonged to a single user (which is how they are stored using the function below)."
   ]
  },
  {
   "cell_type": "code",
   "execution_count": 13,
   "metadata": {},
   "outputs": [
    {
     "data": {
      "text/plain": [
       "1429"
      ]
     },
     "execution_count": 13,
     "metadata": {},
     "output_type": "execute_result"
    }
   ],
   "source": [
    "int(df['article_id'].value_counts().index[0])"
   ]
  },
  {
   "cell_type": "code",
   "execution_count": 14,
   "metadata": {},
   "outputs": [
    {
     "name": "stdout",
     "output_type": "stream",
     "text": [
      "The most viewed article in the dataset as a string with one value following the decimal:  1429.0\n",
      "The most viewed article in the dataset was viewed 937 times\n"
     ]
    }
   ],
   "source": [
    "most_viewed_article_id = str(df['article_id'].value_counts().index[0])\n",
    "print(\"The most viewed article in the dataset as a string with one value following the decimal: \", most_viewed_article_id) \n",
    "max_views = df['article_id'].value_counts().iloc[0]\n",
    "print(\"The most viewed article in the dataset was viewed {} times\".format(max_views))"
   ]
  },
  {
   "cell_type": "code",
   "execution_count": 15,
   "metadata": {},
   "outputs": [
    {
     "data": {
      "text/html": [
       "<div>\n",
       "<style scoped>\n",
       "    .dataframe tbody tr th:only-of-type {\n",
       "        vertical-align: middle;\n",
       "    }\n",
       "\n",
       "    .dataframe tbody tr th {\n",
       "        vertical-align: top;\n",
       "    }\n",
       "\n",
       "    .dataframe thead th {\n",
       "        text-align: right;\n",
       "    }\n",
       "</style>\n",
       "<table border=\"1\" class=\"dataframe\">\n",
       "  <thead>\n",
       "    <tr style=\"text-align: right;\">\n",
       "      <th></th>\n",
       "      <th>article_id</th>\n",
       "      <th>title</th>\n",
       "      <th>user_id</th>\n",
       "    </tr>\n",
       "  </thead>\n",
       "  <tbody>\n",
       "    <tr>\n",
       "      <th>0</th>\n",
       "      <td>1430.0</td>\n",
       "      <td>using pixiedust for fast, flexible, and easier...</td>\n",
       "      <td>1</td>\n",
       "    </tr>\n",
       "    <tr>\n",
       "      <th>1</th>\n",
       "      <td>1314.0</td>\n",
       "      <td>healthcare python streaming application demo</td>\n",
       "      <td>2</td>\n",
       "    </tr>\n",
       "    <tr>\n",
       "      <th>2</th>\n",
       "      <td>1429.0</td>\n",
       "      <td>use deep learning for image classification</td>\n",
       "      <td>3</td>\n",
       "    </tr>\n",
       "    <tr>\n",
       "      <th>3</th>\n",
       "      <td>1338.0</td>\n",
       "      <td>ml optimization using cognitive assistant</td>\n",
       "      <td>4</td>\n",
       "    </tr>\n",
       "    <tr>\n",
       "      <th>4</th>\n",
       "      <td>1276.0</td>\n",
       "      <td>deploy your python model as a restful api</td>\n",
       "      <td>5</td>\n",
       "    </tr>\n",
       "  </tbody>\n",
       "</table>\n",
       "</div>"
      ],
      "text/plain": [
       "   article_id                                              title  user_id\n",
       "0      1430.0  using pixiedust for fast, flexible, and easier...        1\n",
       "1      1314.0       healthcare python streaming application demo        2\n",
       "2      1429.0         use deep learning for image classification        3\n",
       "3      1338.0          ml optimization using cognitive assistant        4\n",
       "4      1276.0          deploy your python model as a restful api        5"
      ]
     },
     "execution_count": 15,
     "metadata": {},
     "output_type": "execute_result"
    }
   ],
   "source": [
    "## No need to change the code here - this will be helpful for later parts of the notebook\n",
    "# Run this cell to map the user email to a user_id column and remove the email column\n",
    "\n",
    "def email_mapper():\n",
    "    coded_dict = dict()\n",
    "    cter = 1\n",
    "    email_encoded = []\n",
    "    \n",
    "    for val in df['email']:\n",
    "        if val not in coded_dict:\n",
    "            coded_dict[val] = cter\n",
    "            cter+=1\n",
    "        \n",
    "        email_encoded.append(coded_dict[val])\n",
    "    return email_encoded\n",
    "\n",
    "email_encoded = email_mapper()\n",
    "del df['email']\n",
    "df['user_id'] = email_encoded\n",
    "\n",
    "# show header\n",
    "df.head()"
   ]
  },
  {
   "cell_type": "code",
   "execution_count": 16,
   "metadata": {},
   "outputs": [
    {
     "name": "stdout",
     "output_type": "stream",
     "text": [
      "It looks like you have everything right here! Nice job!\n"
     ]
    }
   ],
   "source": [
    "## If you stored all your results in the variable names above, \n",
    "## you shouldn't need to change anything in this cell\n",
    "\n",
    "sol_1_dict = {\n",
    "    '`50% of individuals have _____ or fewer interactions.`': median_val,\n",
    "    '`The total number of user-article interactions in the dataset is ______.`': user_article_interactions,\n",
    "    '`The maximum number of user-article interactions by any 1 user is ______.`': max_views_by_user,\n",
    "    '`The most viewed article in the dataset was viewed _____ times.`': max_views,\n",
    "    '`The article_id of the most viewed article is ______.`': most_viewed_article_id,\n",
    "    '`The number of unique articles that have at least 1 rating ______.`': unique_articles,\n",
    "    '`The number of unique users in the dataset is ______`': unique_users,\n",
    "    '`The number of unique articles on the IBM platform`': total_articles\n",
    "}\n",
    "\n",
    "# Test your dictionary against the solution\n",
    "t.sol_1_test(sol_1_dict)"
   ]
  },
  {
   "cell_type": "markdown",
   "metadata": {},
   "source": [
    "### <a class=\"anchor\" id=\"Rank\">Part II: Rank-Based Recommendations</a>\n",
    "\n",
    "Unlike in the earlier lessons, we don't actually have ratings for whether a user liked an article or not.  We only know that a user has interacted with an article.  In these cases, the popularity of an article can really only be based on how often an article was interacted with.\n",
    "\n",
    "`1.` Fill in the function below to return the **n** top articles ordered with most interactions as the top. Test your function using the tests below."
   ]
  },
  {
   "cell_type": "code",
   "execution_count": 17,
   "metadata": {},
   "outputs": [],
   "source": [
    "def get_top_articles(n, df=df):\n",
    "    '''\n",
    "    INPUT:\n",
    "    n - (int) the number of top articles to return\n",
    "    df - (pandas dataframe) df as defined at the top of the notebook \n",
    "    \n",
    "    OUTPUT:\n",
    "    top_articles - (list) A list of the top 'n' article titles \n",
    "    \n",
    "    '''\n",
    "    top_articles = list(set(df[df['article_id'].isin(get_top_article_ids(n))]['title']))\n",
    "    \n",
    "    return top_articles # Return the top article titles from df (not df_content)\n",
    "\n",
    "def get_top_article_ids(n, df=df):\n",
    "    '''\n",
    "    INPUT:\n",
    "    n - (int) the number of top articles to return\n",
    "    df - (pandas dataframe) df as defined at the top of the notebook \n",
    "    \n",
    "    OUTPUT:\n",
    "    top_articles - (list) A list of the top 'n' article titles \n",
    "    \n",
    "    '''\n",
    "    top_articles = list(map(str, df.article_id.value_counts().sort_values(ascending=False).head(n).index))\n",
    " \n",
    "    return top_articles # Return the top article ids"
   ]
  },
  {
   "cell_type": "code",
   "execution_count": 18,
   "metadata": {},
   "outputs": [
    {
     "name": "stdout",
     "output_type": "stream",
     "text": [
      "['use deep learning for image classification', 'predicting churn with the spss random tree algorithm', 'use xgboost, scikit-learn & ibm watson machine learning apis', 'insights from new york car accident reports', 'healthcare python streaming application demo', 'analyze energy consumption in buildings', 'gosales transactions for logistic regression model', 'finding optimal locations of new store using decision optimization', 'apache spark lab, part 1: basic concepts', 'visualize car data with brunel']\n",
      "['1429.0', '1330.0', '1431.0', '1427.0', '1364.0', '1314.0', '1293.0', '1170.0', '1162.0', '1304.0']\n"
     ]
    }
   ],
   "source": [
    "print(get_top_articles(10))\n",
    "print(get_top_article_ids(10))"
   ]
  },
  {
   "cell_type": "code",
   "execution_count": 19,
   "metadata": {},
   "outputs": [
    {
     "name": "stdout",
     "output_type": "stream",
     "text": [
      "Your top_5 looks like the solution list! Nice job.\n",
      "Your top_10 looks like the solution list! Nice job.\n",
      "Your top_20 looks like the solution list! Nice job.\n"
     ]
    }
   ],
   "source": [
    "# Test your function by returning the top 5, 10, and 20 articles\n",
    "top_5 = get_top_articles(5)\n",
    "top_10 = get_top_articles(10)\n",
    "top_20 = get_top_articles(20)\n",
    "\n",
    "# Test each of your three lists from above\n",
    "t.sol_2_test(get_top_articles)"
   ]
  },
  {
   "cell_type": "markdown",
   "metadata": {},
   "source": [
    "### <a class=\"anchor\" id=\"User-User\">Part III: User-User Based Collaborative Filtering</a>\n",
    "\n",
    "\n",
    "`1.` Use the function below to reformat the **df** dataframe to be shaped with users as the rows and articles as the columns.  \n",
    "\n",
    "* Each **user** should only appear in each **row** once.\n",
    "\n",
    "\n",
    "* Each **article** should only show up in one **column**.  \n",
    "\n",
    "\n",
    "* **If a user has interacted with an article, then place a 1 where the user-row meets for that article-column**.  It does not matter how many times a user has interacted with the article, all entries where a user has interacted with an article should be a 1.  \n",
    "\n",
    "\n",
    "* **If a user has not interacted with an item, then place a zero where the user-row meets for that article-column**. \n",
    "\n",
    "Use the tests to make sure the basic structure of your matrix matches what is expected by the solution."
   ]
  },
  {
   "cell_type": "code",
   "execution_count": 20,
   "metadata": {},
   "outputs": [],
   "source": [
    "# create the user-article matrix with 1's and 0's\n",
    "\n",
    "def create_user_item_matrix(df):\n",
    "    '''\n",
    "    INPUT:\n",
    "    df - pandas dataframe with article_id, title, user_id columns\n",
    "    \n",
    "    OUTPUT:\n",
    "    user_item - user item matrix \n",
    "    \n",
    "    Description:\n",
    "    Return a matrix with user ids as rows and article ids on the columns with 1 values where a user interacted with \n",
    "    an article and a 0 otherwise\n",
    "    '''\n",
    "    # Create the matrix first\n",
    "    user_item = df.groupby(['user_id', 'article_id'])['title'].count().notnull().unstack()\n",
    "    # Fill in the user interation with binary represenatation\n",
    "    user_item = user_item.notnull().astype(np.int)\n",
    "    \n",
    "    \n",
    "    return user_item # return the user_item matrix \n",
    "\n",
    "user_item = create_user_item_matrix(df)\n",
    "user_item.to_pickle('./data/user_item_matrix.p')"
   ]
  },
  {
   "cell_type": "code",
   "execution_count": 21,
   "metadata": {},
   "outputs": [
    {
     "name": "stdout",
     "output_type": "stream",
     "text": [
      "You have passed our quick tests!  Please proceed!\n"
     ]
    }
   ],
   "source": [
    "## Tests: You should just need to run this cell.  Don't change the code.\n",
    "assert user_item.shape[0] == 5149, \"Oops!  The number of users in the user-article matrix doesn't look right.\"\n",
    "assert user_item.shape[1] == 714, \"Oops!  The number of articles in the user-article matrix doesn't look right.\"\n",
    "assert user_item.sum(axis=1)[1] == 36, \"Oops!  The number of articles seen by user 1 doesn't look right.\"\n",
    "print(\"You have passed our quick tests!  Please proceed!\")"
   ]
  },
  {
   "cell_type": "markdown",
   "metadata": {},
   "source": [
    "`2.` Complete the function below which should take a user_id and provide an ordered list of the most similar users to that user (from most similar to least similar).  The returned result should not contain the provided user_id, as we know that each user is similar to him/herself. Because the results for each user here are binary, it (perhaps) makes sense to compute similarity as the dot product of two users. \n",
    "\n",
    "Use the tests to test your function."
   ]
  },
  {
   "cell_type": "code",
   "execution_count": 22,
   "metadata": {},
   "outputs": [],
   "source": [
    "def find_similar_users(user_id, user_item=user_item):\n",
    "    '''\n",
    "    INPUT:\n",
    "    user_id - (int) a user_id\n",
    "    user_item - (pandas dataframe) matrix of users by articles: \n",
    "                1's when a user has interacted with an article, 0 otherwise\n",
    "    \n",
    "    OUTPUT:\n",
    "    similar_users - (list) an ordered list where the closest users (largest dot product users)\n",
    "                    are listed first\n",
    "    \n",
    "    Description:\n",
    "    Computes the similarity of every pair of users based on the dot product\n",
    "    Returns an ordered\n",
    "    \n",
    "    '''\n",
    "    # compute similarity of each user to the provided user\n",
    "    similarity = user_item.dot(user_item.loc[user_id])\n",
    "    # sort by similarity\n",
    "    similarity = similarity.sort_values(ascending=False)\n",
    "    # create list of just the ids\n",
    "    most_similar_users = list(similarity.index)\n",
    "    # remove the own user's id\n",
    "    similarity.drop(user_id, inplace=True)\n",
    "    return most_similar_users # return a list of the users in order from most to least similar\n",
    "        "
   ]
  },
  {
   "cell_type": "code",
   "execution_count": 23,
   "metadata": {},
   "outputs": [
    {
     "name": "stdout",
     "output_type": "stream",
     "text": [
      "The 10 most similar users to user 1 are: [1, 3933, 23, 3782, 203, 4459, 131, 3870, 46, 4201]\n",
      "The 5 most similar users to user 3933 are: [1, 3933, 23, 3782, 4459]\n",
      "The 3 most similar users to user 46 are: [4201, 46, 23]\n"
     ]
    }
   ],
   "source": [
    "# Do a spot check of your function\n",
    "print(\"The 10 most similar users to user 1 are: {}\".format(find_similar_users(1)[:10]))\n",
    "print(\"The 5 most similar users to user 3933 are: {}\".format(find_similar_users(3933)[:5]))\n",
    "print(\"The 3 most similar users to user 46 are: {}\".format(find_similar_users(46)[:3]))"
   ]
  },
  {
   "cell_type": "markdown",
   "metadata": {},
   "source": [
    "`3.` Now that you have a function that provides the most similar users to each user, you will want to use these users to find articles you can recommend.  Complete the functions below to return the articles you would recommend to each user. "
   ]
  },
  {
   "cell_type": "code",
   "execution_count": 24,
   "metadata": {},
   "outputs": [],
   "source": [
    "def get_article_names(article_ids, df=df):\n",
    "    '''\n",
    "    INPUT:\n",
    "    article_ids - (list) a list of article ids\n",
    "    df - (pandas dataframe) df as defined at the top of the notebook\n",
    "    \n",
    "    OUTPUT:\n",
    "    article_names - (list) a list of article names associated with the list of article ids \n",
    "                    (this is identified by the title column)\n",
    "    '''\n",
    "    article_names = list(set(df[df['article_id'].isin(article_ids)]['title']))\n",
    "    \n",
    "    return article_names # Return the article names associated with list of article ids\n",
    "\n",
    "\n",
    "def get_user_articles(user_id, user_item=user_item):\n",
    "    '''\n",
    "    INPUT:\n",
    "    user_id - (int) a user id\n",
    "    user_item - (pandas dataframe) matrix of users by articles: \n",
    "                1's when a user has interacted with an article, 0 otherwise\n",
    "    \n",
    "    OUTPUT:\n",
    "    article_ids - (list) a list of the article ids seen by the user\n",
    "    article_names - (list) a list of article names associated with the list of article ids \n",
    "                    (this is identified by the doc_full_name column in df_content)\n",
    "    \n",
    "    Description:\n",
    "    Provides a list of the article_ids and article titles that have been seen by a user\n",
    "    '''\n",
    "    article_ids = user_item.loc[user_id]\n",
    "    article_ids =  [str(article_id) for article_id in article_ids[article_ids == 1].index]\n",
    "    article_names = get_article_names(article_ids)\n",
    "    \n",
    "    return article_ids, article_names # return the ids and names\n",
    "\n",
    "\n",
    "def user_user_recs(user_id, m=10):\n",
    "    '''\n",
    "    INPUT:\n",
    "    user_id - (int) a user id\n",
    "    m - (int) the number of recommendations you want for the user\n",
    "    \n",
    "    OUTPUT:\n",
    "    recs - (list) a list of recommendations for the user\n",
    "    \n",
    "    Description:\n",
    "    Loops through the users based on closeness to the input user_id\n",
    "    For each user - finds articles the user hasn't seen before and provides them as recs\n",
    "    Does this until m recommendations are found\n",
    "    \n",
    "    Notes:\n",
    "    Users who are the same closeness are chosen arbitrarily as the 'next' user\n",
    "    \n",
    "    For the user where the number of recommended articles starts below m \n",
    "    and ends exceeding m, the last items are chosen arbitrarily\n",
    "    \n",
    "    '''\n",
    "    \n",
    "    user_ids = find_similar_users(user_id)\n",
    "    recs = df[df['user_id'].isin(user_ids)]['article_id']\n",
    "    recs = list(set(recs))\n",
    "    \n",
    "    return recs # return your recommendations for this user_id    "
   ]
  },
  {
   "cell_type": "code",
   "execution_count": 25,
   "metadata": {},
   "outputs": [
    {
     "data": {
      "text/plain": [
       "['country statistics - europe - population and society',\n",
       " 'apache spark™ 2.0: migrating applications',\n",
       " 'uci: sms spam collection',\n",
       " 'households by type of household, age and sex of head of household',\n",
       " 'airbnb data for analytics: chicago listings',\n",
       " 'unmet need for family planning, spacing, percentage, worldwide, by country',\n",
       " 'using shell scripts to control data flows created in watson applications',\n",
       " 'how to write the first for loop in r',\n",
       " 'top analytics tools in 2016',\n",
       " 'drowning in data sources: how data cataloging could fix your findability problems',\n",
       " 'calls by customers of a telco company',\n",
       " 'country statistics: natural gas - consumption',\n",
       " 'using bigdl in dsx for deep learning on spark',\n",
       " 'health insurance (2015): united states demographic measures',\n",
       " 'use ibm data science experience to detect time series anomalies',\n",
       " '0 to life-changing app: new apache systemml api on spark shell',\n",
       " 'this week in data science (january 31, 2017)',\n",
       " 'top 10 machine learning algorithms for beginners',\n",
       " 'airbnb data for analytics: paris reviews',\n",
       " 'the 3 kinds of context: machine learning and the art of the frame',\n",
       " 'airbnb data for analytics: boston calendar',\n",
       " 'deep learning, structure and innate priors',\n",
       " 'united states demographic measures: education',\n",
       " 'web picks by dataminingapps',\n",
       " 'airbnb data for analytics: trentino reviews',\n",
       " 'this week in data science (november 22, 2016)',\n",
       " 'airbnb data for analytics: vancouver reviews',\n",
       " 'this week in data science (july 26, 2016)',\n",
       " 'airbnb data for analytics: trentino listings',\n",
       " 'airbnb data for analytics: paris listings',\n",
       " 'uci: red wine quality',\n",
       " 'uci: forest fires',\n",
       " 'work with data connections in dsx',\n",
       " 'airbnb data for analytics: antwerp listings test',\n",
       " 'configuring the apache spark sql context',\n",
       " 'variational auto-encoder for \"frey faces\" using keras',\n",
       " 'fortune 100 companies',\n",
       " 'load data into rstudio for analysis in dsx',\n",
       " '5 practical use cases of social network analytics: going beyond facebook and twitter',\n",
       " 'country statistics: imports',\n",
       " 'improving quality of life with spark-empowered machine learning',\n",
       " 'country populations 15 years of age and over, by educational attainment, age and sex',\n",
       " 'labor',\n",
       " 'access db2 warehouse on cloud and db2 with python',\n",
       " 'use spark r to load and analyze data',\n",
       " 'a survey of books about apache spark™',\n",
       " 'i am not a data scientist – ibm watson data lab',\n",
       " 'shiny 0.13.0',\n",
       " 'let data dictate the visualization',\n",
       " 'real-time sentiment analysis of twitter hashtags with spark (+ pixiedust)',\n",
       " 'apache spark™ 2.0: impressive improvements to spark sql',\n",
       " 'how to solve 90% of nlp problems',\n",
       " 'share the (pixiedust) magic – ibm watson data lab – medium',\n",
       " 'airbnb data for analytics: dublin reviews',\n",
       " 'create a project for watson machine learning in dsx',\n",
       " 'airbnb data for analytics: new york city reviews',\n",
       " 'worldwide county and region - national accounts - gross national income 1948-2010',\n",
       " 'this week in data science (may 16, 2017)',\n",
       " 'airbnb data for analytics: vancouver listings',\n",
       " 'airbnb data for analytics: sydney calendar',\n",
       " 'airbnb data for analytics: santa cruz county reviews',\n",
       " 'apache spark sql analyzer resolves order-by column',\n",
       " 'use deep learning for image classification',\n",
       " '520    using notebooks with pixiedust for fast, flexi...\\nName: title, dtype: object',\n",
       " 'use iot data in streams designer for billing and alerts',\n",
       " 'roads paved as % of total roads by country',\n",
       " 'simple linear regression? do it the bayesian way',\n",
       " 'join and enrich data from multiple sources',\n",
       " 'country statistics: central bank discount rate',\n",
       " 'ratio (% of population) at national poverty line by country',\n",
       " 'jupyter notebook tutorial',\n",
       " 'world marriage data',\n",
       " 'this week in data science (january 24, 2017)',\n",
       " 'breaking the 80/20 rule: how data catalogs transform data scientists’ productivity',\n",
       " 'how to get a job in deep learning',\n",
       " 'airbnb data for analytics: boston listings',\n",
       " 'airbnb data for analytics: london reviews',\n",
       " 'introduction to market basket analysis in\\xa0python',\n",
       " 'from spark ml model to online scoring with scala',\n",
       " 'generalization in deep learning',\n",
       " '10 data science podcasts you need to be listening to right now',\n",
       " 'times world university ranking analysis',\n",
       " 'the new builders ep. 13: all the data that’s fit to analyze',\n",
       " 'country statistics: railways',\n",
       " 'imitation learning in tensorflow (hopper from openai gym)',\n",
       " 'predicting churn with the spss random tree algorithm',\n",
       " 'analyze facebook data using ibm watson and watson studio',\n",
       " 'uci: iris',\n",
       " 'data visualization with r: scrum metrics',\n",
       " 'use ibm data science experience to read and write data stored on amazon s3',\n",
       " 'country statistics: children under the age of 5 years underweight',\n",
       " 'web picks (december 2017)',\n",
       " 'apache spark: upgrade and speed-up your analytics',\n",
       " 'governance overview for ibm data catalog',\n",
       " 'visual information theory ',\n",
       " \"let's have some fun with nfl data\",\n",
       " 'build a python app on the streaming analytics service',\n",
       " 'enjoy python 3.5 in jupyter notebooks',\n",
       " 'airbnb data for analytics: new orleans listings',\n",
       " 'annual % population growth by country',\n",
       " 'world tourism data by the world tourism organization',\n",
       " 'working with on-premises databases — step by step',\n",
       " 'foundational methodology for data science',\n",
       " 'this week in data science (february 14, 2017)',\n",
       " 'marital status of men and women',\n",
       " 'apache spark 2.0: machine learning. under the hood and over the rainbow.',\n",
       " 'package development with devtools  cheat sheet',\n",
       " 'hurricane how-to',\n",
       " 'births attended by skilled health staff (% of total) by country',\n",
       " 'machine learning for the enterprise',\n",
       " 'ibm data catalog is now generally available',\n",
       " '70 amazing free data sources you should know',\n",
       " 'neurally embedded emojis',\n",
       " 'data science platforms are on the rise and ibm is leading the way',\n",
       " 'run shiny applications in rstudio in dsx',\n",
       " 'the nurse assignment problem',\n",
       " 'the machine learning database',\n",
       " 'ibm watson machine learning: get started',\n",
       " 'getting started with apache mahout',\n",
       " 'breast cancer detection with xgboost, wml and scikit',\n",
       " 'this week in data science (august 02, 2016)',\n",
       " 'welcome to pixiedust',\n",
       " 'statistical bias types explained',\n",
       " 'airbnb data for analytics: athens listings',\n",
       " 'introducing ibm watson studio ',\n",
       " 'consumer prices',\n",
       " 'backpropagation — how neural networks learn complex behaviors',\n",
       " 'airbnb data for analytics: portland listings',\n",
       " 'can a.i. be taught to explain itself?',\n",
       " 'country statistics: crude oil - imports',\n",
       " 'build a naive-bayes model with wml & dsx',\n",
       " 'leverage python, scikit, and text classification for behavioral profiling',\n",
       " 'use spark for python to load data and run sql queries',\n",
       " 'deep learning with tensorflow course by big data university',\n",
       " 'higher-order logistic regression for large datasets',\n",
       " 'total employment, by economic activity (thousands)',\n",
       " 'airbnb data for analytics: berlin reviews',\n",
       " 'analyze open data sets with pandas dataframes',\n",
       " 'dt: an r interface to the datatables library',\n",
       " 'machine learning for the enterprise.',\n",
       " 'apache spark™ 2.0: extend structured streaming for spark ml',\n",
       " 'a tensorflow regression model to predict house values',\n",
       " 'gosales transactions for logistic regression model',\n",
       " 'working with ibm cloud object storage in python',\n",
       " 'fertility rate by country in total births per woman',\n",
       " 'visualising data the node.js way',\n",
       " 'aspiring data scientists! start to learn statistics with these 6 books!',\n",
       " 'what’s new in the streaming analytics service on bluemix',\n",
       " 'airbnb data for analytics: london listings',\n",
       " 'intentional homicide, number and rate per 100,000 population, by country',\n",
       " 'how smart catalogs can turn the big data flood into an ocean of opportunity',\n",
       " 'refugees, worldwide, 2003 - 2013',\n",
       " 'score a predictive model built with ibm spss modeler, wml & dsx',\n",
       " 'interconnect with us',\n",
       " 'making data cleaning simple with the sparkling.data library',\n",
       " 'airbnb data for analytics: venice listings',\n",
       " 'spark-based machine learning tools for capturing word meanings',\n",
       " 'run dsx notebooks on amazon emr',\n",
       " 'understanding empirical bayes estimation (using baseball statistics)',\n",
       " 'access postgresql with python',\n",
       " 'self-service data preparation with ibm data refinery',\n",
       " 'overlapping co-cluster recommendation algorithm (ocular)',\n",
       " 'uci: white wine quality',\n",
       " 'create a connection and add it to a project using ibm data refinery',\n",
       " 'machine learning exercises in python, part 1',\n",
       " 'enhanced color mapping',\n",
       " 'worldwide fuel oil consumption by household (in 1000 metric tons)',\n",
       " 'new shiny cheat sheet and video tutorial',\n",
       " 'airbnb data for analytics: toronto calendar',\n",
       " 'country statistics: budget surplus or deficit',\n",
       " 'best practices for custom models in watson visual recognition',\n",
       " 'got zip code data? prep it for analytics. – ibm watson data lab – medium',\n",
       " 'manage object storage in dsx',\n",
       " 'cifar-10 - python version',\n",
       " 'learning statistics on youtube',\n",
       " 'consumption of ozone-depleting cfcs in odp metric tons',\n",
       " 'country statistics: electricity - consumption',\n",
       " 'calculate moving averages on real time data with streams designer',\n",
       " 'tidyr 0.6.0',\n",
       " 'publish notebooks to github in dsx',\n",
       " 'web picks (week of 2 october 2017)',\n",
       " 'practical tutorial on random forest and parameter tuning in r',\n",
       " 'the greatest public datasets for ai – startup grind',\n",
       " 'house building with worker skills',\n",
       " 'a glimpse inside the mind of a data scientist',\n",
       " 'intents & examples for ibm watson conversation',\n",
       " 'introducing streams designer',\n",
       " 'fashion-mnist',\n",
       " 'get social with your notebooks in dsx',\n",
       " 'data visualization: the importance of excluding unnecessary details',\n",
       " 'blogging with brunel',\n",
       " 'sector correlations shiny app',\n",
       " 'airbnb data for analytics: austin reviews',\n",
       " 'airbnb data for analytics: venice calendar',\n",
       " 'insights from new york car accident reports',\n",
       " 'timeseries data analysis of iot events by using jupyter notebook',\n",
       " 'using rstudio in ibm data science experience',\n",
       " 'how to map usa rivers using ggplot2',\n",
       " \"i'd rather predict basketball games than elections: elastic nba rankings\",\n",
       " 'nips 2016 — day 2 highlights',\n",
       " 'trust in data science',\n",
       " 'developing for the ibm streaming analytics service',\n",
       " 'why relational databases and r?',\n",
       " 'data science bowl 2017',\n",
       " 'recent trends in recommender systems',\n",
       " 'build a predictive analytic model',\n",
       " 'web picks (week of 23 january 2017)',\n",
       " 'using machine learning to predict value of homes on airbnb',\n",
       " 'country statistics: current account balance',\n",
       " 'building your first machine learning system ',\n",
       " 'probabilistic graphical models tutorial\\u200a—\\u200apart 2 – stats and bots',\n",
       " 'a classification problem',\n",
       " 'percentage of internet users by country',\n",
       " 'breast cancer wisconsin (diagnostic) data set',\n",
       " 'quick guide to build a recommendation engine in python',\n",
       " 'this week in data science (april 11, 2017)',\n",
       " '56594    lifelong (machine) learning: how automation ca...\\nName: title, dtype: object',\n",
       " 'use xgboost, scikit-learn & ibm watson machine learning apis',\n",
       " 'deep forest: towards an alternative to deep neural networks',\n",
       " 'developing ibm streams applications with the python api (version 1.6)',\n",
       " 'small steps to tensorflow',\n",
       " 'airbnb data for analytics: new york city calendar',\n",
       " 'this week in data science (may 30, 2017)',\n",
       " 'a moving average trading strategy',\n",
       " 'country statistics: unemployment rate',\n",
       " 'housing (2015): united states demographic measures',\n",
       " 'leaflet: interactive web maps with r',\n",
       " 'overfitting in machine learning: what it is and how to prevent it',\n",
       " 'use spark for r to load data and run sql queries',\n",
       " '10 essential algorithms for machine learning engineers',\n",
       " 'airbnb data for analytics: barcelona calendar',\n",
       " 'pulling and displaying etf data',\n",
       " 'what’s new in data refinery?',\n",
       " 'population below national poverty line, total, percentage',\n",
       " 'airbnb data for analytics: portland reviews',\n",
       " 'learn about data science in world of watson',\n",
       " 'bayesian nonparametric models – stats and bots',\n",
       " 'this week in data science (april 4, 2017)',\n",
       " '20405    how to tame the valley — hessian-free hacks fo...\\nName: title, dtype: object',\n",
       " 'uci: poker hand - training data set',\n",
       " 'ibm data catalog overview',\n",
       " 'military expenditure as % of gdp by country',\n",
       " 'predicting flight cancellations using weather data, part 3',\n",
       " '10 data science, machine learning and ai podcasts you must listen to',\n",
       " 'tidyverse practice: mapping large european cities',\n",
       " 'mobile-cellular telephone subscriptions per 100 inhabitants, worldwide',\n",
       " 'education (2015): united states demographic measures',\n",
       " 'analyze open data sets using pandas in a python notebook',\n",
       " 'natural gas production, 1995 - 2012, worldwide',\n",
       " 'model bike sharing data with spss',\n",
       " 'working interactively with rstudio and notebooks in dsx',\n",
       " 'watson speech-to-text services — tl;dr need not apply',\n",
       " 'stacking multiple custom models in watson visual recognition',\n",
       " 'get started with streams designer by following this roadmap',\n",
       " 'use the machine learning library',\n",
       " 'top 20 r machine learning and data science packages',\n",
       " 'how to scale your analytics using r',\n",
       " 'airbnb data for analytics: vienna reviews',\n",
       " 'use decision optimization to schedule league games',\n",
       " 'country statistics: stock of domestic credit',\n",
       " 'ibm cloud sql query',\n",
       " 'are your predictive models like broken clocks?',\n",
       " 'this week in data science (may 23, 2017)',\n",
       " 'flightpredict ii: the sequel  – ibm watson data lab',\n",
       " 'country statistics: airports',\n",
       " 'greenhouse gas emissions worldwide',\n",
       " 'how to use version control (github) in rstudio within dsx?',\n",
       " \"december '16 rstudio tips and tricks\",\n",
       " 'data science for real-time streaming analytics',\n",
       " 'this week in data science (february 21, 2017)',\n",
       " 'one year as a data scientist at stack overflow',\n",
       " 'geographic coordinates of world locations',\n",
       " 'airbnb data for analytics: seattle reviews',\n",
       " 'analyze energy consumption in buildings',\n",
       " 'putting a human face on machine learning',\n",
       " 'what is systemml? why is it relevant to you?',\n",
       " 'analyzing data by using the sparkling.data library features',\n",
       " 'airbnb data for analytics: antwerp listings',\n",
       " 'the difference between ai, machine learning, and deep learning?',\n",
       " 'essentials of machine learning algorithms (with python and r codes)',\n",
       " 'back to basics — jupyter notebooks',\n",
       " 'co2 emissions (metric tons per capita) by country',\n",
       " 'airbnb data for analytics: sydney reviews',\n",
       " 'country statistics: crude oil - exports',\n",
       " 'load db2 warehouse on cloud data with apache spark in dsx',\n",
       " 'how to ease the strain as your data volumes rise',\n",
       " 'analyze data, build a dashboard with spark and pixiedust',\n",
       " 'learn tensorflow and deep learning together and now!',\n",
       " 'pixiedust gets its first community-driven feature in 1.0.4',\n",
       " 'twelve\\xa0ways to color a map of africa using brunel',\n",
       " 'brunel interactive visualizations in jupyter notebooks',\n",
       " 'refugees',\n",
       " 'hyperparameter optimization: sven hafeneger',\n",
       " '1448    i ranked every intro to data science course on...\\nName: title, dtype: object',\n",
       " 'challenges in deep learning',\n",
       " 'the power of machine learning in spark',\n",
       " 'income (2015): united states demographic measures',\n",
       " 'high-tech exports as % of manufactured exports by country',\n",
       " 'ingest data from message hub in a streams flow',\n",
       " 'airbnb data for analytics: san diego listings',\n",
       " 'gross national income per capita, atlas method (current us$) by country',\n",
       " 'brunel: imitation is a sincere form of flattery',\n",
       " 'what is text analytics?',\n",
       " 'spark sql - rapid performance evolution',\n",
       " 'country statistics: refined petroleum products - production',\n",
       " 'working with notebooks in dsx',\n",
       " 'working with sqlite databases using python and pandas',\n",
       " 'clustering: a guide for the perplexed',\n",
       " 'roads, paved (% of total roads), worldwide, 1990-2011',\n",
       " '68879    don’t throw more data at the problem! here’s h...\\nName: title, dtype: object',\n",
       " 'airbnb data for analytics: amsterdam reviews',\n",
       " 'accelerate your workflow with dsx',\n",
       " 'airbnb data for analytics: mallorca reviews',\n",
       " 'getting started with python',\n",
       " 'bayesian regularization for #neuralnetworks – autonomous agents\\u200a—\\u200a#ai',\n",
       " 'use data assets in a project using ibm data catalog',\n",
       " 'country statistics: roadways',\n",
       " 'how ibm builds an effective data science team',\n",
       " \"feature importance and why it's important\",\n",
       " 'airbnb data for analytics: chicago calendar',\n",
       " 'predicting the 2016 us presidential election',\n",
       " 'country statistics: health expenditures',\n",
       " 'this week in data science (may 2, 2017)',\n",
       " 'access mysql with r',\n",
       " 'airbnb data for analytics: berlin calendar',\n",
       " 'what is hadoop?',\n",
       " 'poverty (2015): united states demographic measures',\n",
       " 'an attempt to understand boosting algorithm(s)',\n",
       " 'getting started with graphframes in apache spark™',\n",
       " 'country statistics: population',\n",
       " '66855    migration from ibm bluemix data connect api (a...\\nName: title, dtype: object',\n",
       " 'the million dollar question: where is my data?',\n",
       " 'missing data conundrum: exploration and imputation techniques',\n",
       " 'web picks (week of 4 september 2017)',\n",
       " 'government consumption expenditure',\n",
       " 'automating web analytics through python',\n",
       " 'markdown for jupyter notebooks cheatsheet',\n",
       " 'jupyter notebooks with scala, python, or r kernels',\n",
       " 'htmlwidgets: javascript data visualization for r',\n",
       " 'rstudio ide  cheat sheet',\n",
       " 'deep learning trends and an example',\n",
       " 'style transfer experiments with watson machine learning',\n",
       " 'using deep learning with keras to predict customer churn',\n",
       " 'transform anything into a vector',\n",
       " 'from local spark mllib model to cloud with watson machine learning',\n",
       " 'an introduction to scientific python (and a bit of the maths behind it) – numpy',\n",
       " 'country statistics: reserves of foreign exchange and gold',\n",
       " 'the art of side effects: curing apache spark streaming’s amnesia (part 1/2)',\n",
       " 'foreign direct investment, net inflows (bop, current us$) by country',\n",
       " 'shiny 0.12: interactive plots with ggplot2',\n",
       " 'a visual explanation of the back propagation algorithm for neural networks',\n",
       " 'time series prediction using recurrent neural networks (lstms)',\n",
       " 'a new version of dt (0.2) on cran',\n",
       " 'dplyr 0.5.0',\n",
       " 'predicting gentrification using longitudinal census data',\n",
       " 'effectively using\\xa0matplotlib',\n",
       " 'upload data and create data frames in jupyter notebooks',\n",
       " 'the t-distribution: a key statistical concept discovered by a beer brewery',\n",
       " 'airbnb data for analytics: amsterdam calendar',\n",
       " 'create a project in dsx',\n",
       " 'experience iot with coursera',\n",
       " 'watson assistant workspace analysis with user logs',\n",
       " 'visualize data with the matplotlib library',\n",
       " 'data visualization playbook: the right level of detail',\n",
       " 'data science expert interview: holden karau',\n",
       " 'use spark for scala to load data and run sql queries',\n",
       " 'open sourcing 223gb of driving data – udacity inc',\n",
       " 'a guide to receptive field arithmetic for convolutional neural networks',\n",
       " 'tidy data in python',\n",
       " 'generative adversarial networks (gans)',\n",
       " 'analyzing streaming data from kafka topics',\n",
       " 'artificial intelligence, ethically speaking – inside machine learning – medium',\n",
       " 'sparklyr — r interface for apache spark',\n",
       " 'analyze open data sets with spark & pixiedust',\n",
       " 'a guide to convolution arithmetic for deep learning',\n",
       " 'household consumption expenditure',\n",
       " 'country statistics: maternal mortality rate',\n",
       " 'data model with streaming analytics and python',\n",
       " 'discover, catalog and govern data with ibm data catalog',\n",
       " 'airbnb data for analytics: portland calendar',\n",
       " 'read and write data to and from amazon s3 buckets in rstudio',\n",
       " 'spark 2.1 and job monitoring available in dsx',\n",
       " 'improving the roi of big data and analytics through leveraging new sources of data',\n",
       " 'simple graphing with ipython and\\xa0pandas',\n",
       " 'the two phases of gradient descent in deep learning',\n",
       " 'big data is better data',\n",
       " 'airbnb data for analytics: nashville calendar',\n",
       " 'uci: abalone',\n",
       " 'wages',\n",
       " 'making sense of the bias / variance trade-off in (deep) reinforcement learning',\n",
       " 'making data science a team sport',\n",
       " 'united states demographic measures: population and age',\n",
       " 'uci: car evaluation',\n",
       " 'programmatic evaluation using watson conversation',\n",
       " 'ggplot2 2.2.0 coming soon!',\n",
       " \"a beginner's guide to variational methods\",\n",
       " 'pixieapp for outlier detection',\n",
       " 'optimization for deep learning highlights in 2017',\n",
       " 'three reasons machine learning models go out of sync',\n",
       " 'using deep learning to reconstruct high-resolution audio',\n",
       " 'data wrangling with dplyr and tidyr cheat sheet',\n",
       " 'super fast string matching in python',\n",
       " 'access postgresql with r',\n",
       " 'unstructured and structured data versus repetitive and non-repetitive',\n",
       " 'apache systemml',\n",
       " 'you could be looking at it all wrong',\n",
       " 'ibm data science experience white paper - sparkr transforming r into a tool for big data analytics',\n",
       " 'pearson correlation aggregation on sparksql',\n",
       " 'empirical bayes for multiple sample sizes',\n",
       " 'ml algorithm != learning machine',\n",
       " 'modern machine learning algorithms',\n",
       " 'some random weekend reading',\n",
       " 'airbnb data for analytics: washington d.c. reviews',\n",
       " 'country statistics: telephones - fixed lines',\n",
       " 'ml optimization using cognitive assistant',\n",
       " 'this week in data science (january 17, 2017)',\n",
       " 'interactive time series with dygraphs',\n",
       " 'learn basics about notebooks and apache spark',\n",
       " 'apache spark as the new engine of genomics',\n",
       " 'connect to db2 warehouse on cloud and db2 using scala',\n",
       " 'excel files: loading from object storage — python',\n",
       " 'this week in data science (february 28, 2017)',\n",
       " 'notebooks: a power tool for data scientists',\n",
       " 'how can data scientists collaborate to build better business',\n",
       " 'how open api economy accelerates the growth of big data and analytics',\n",
       " 'dsx: hybrid mode',\n",
       " 'graph-based machine learning',\n",
       " 'apache spark lab, part 1: basic concepts',\n",
       " 'this week in data science (january 10, 2017)',\n",
       " 'apple, ibm add machine learning to partnership with watson-core ml coupling',\n",
       " 'readr 1.0.0',\n",
       " 'using dsx notebooks to analyze github data',\n",
       " 'collect your own fitbit data with python',\n",
       " 'predict chronic kidney disease using spss modeler flows',\n",
       " 'airbnb data for analytics: montreal listings',\n",
       " 'model a golomb ruler',\n",
       " 'do i need to learn r?',\n",
       " 'airbnb data for analytics: boston reviews',\n",
       " 'data science experience demo: modeling energy usage in nyc',\n",
       " 'uci ml repository: chronic kidney disease data set',\n",
       " 'the nurse assignment problem data',\n",
       " 'airbnb data for analytics: chicago reviews',\n",
       " 'airbnb data for analytics: athens reviews',\n",
       " 'using machine learning to predict baseball injuries',\n",
       " '9 mistakes to avoid when starting your career in data science',\n",
       " 'environment statistics database - waste',\n",
       " 'how the circle line rogue train was caught with data',\n",
       " 'ensemble learning to improve machine learning results',\n",
       " 'declarative machine learning',\n",
       " 'this week in data science (march 28, 2017)',\n",
       " 'measles immunization % children 12-23 months by country',\n",
       " 'country statistics: gdp - per capita (ppp)',\n",
       " 'word2vec in data products',\n",
       " 'why even a moth’s brain is smarter than an ai',\n",
       " 'webinar: april 11 - thinking inside the box: you can do that inside a data frame?!',\n",
       " 'country statistics: market value of publicly traded shares',\n",
       " 'collecting data science cheat sheets',\n",
       " 'fighting gerrymandering: using data science to draw fairer congressional districts',\n",
       " 'environment statistics database - water',\n",
       " 'gosales transactions for naive bayes model',\n",
       " 'analyze starcraft ii replays with jupyter notebooks',\n",
       " 'brunel 2.0 preview',\n",
       " 'this week in data science (april 18, 2017)',\n",
       " 'advancements in the spark community',\n",
       " 'data science of variable selection',\n",
       " 'python for loops explained (python for data science basics #5)',\n",
       " 'occupation (2015): united states demographic measures',\n",
       " 'customer demographics and sales',\n",
       " 'how to choose a project to practice data science',\n",
       " 'this week in data science (november 01, 2016)',\n",
       " 'deep learning with data science experience',\n",
       " 'creating the data science experience',\n",
       " 'neural language modeling from scratch (part 1)',\n",
       " 'part-time employment rate, worldwide, by country and year',\n",
       " '7 types of job profiles that makes you a data scientist',\n",
       " 'airbnb data for analytics: san francisco listings',\n",
       " 'an interview with pythonista katharine jarmul',\n",
       " 'using github for project control in dsx',\n",
       " 'uci: adult - predict income',\n",
       " 'improved water source by country: % population with access',\n",
       " 'brunel in jupyter',\n",
       " 'persistent changes to spark config in dsx',\n",
       " 'flexdashboard: interactive dashboards for r',\n",
       " 'detect malfunctioning iot sensors with streaming analytics',\n",
       " 'using apply, sapply, lapply in r',\n",
       " '1357    what i learned implementing a classifier from ...\\nName: title, dtype: object',\n",
       " 'interest rates',\n",
       " 'python if statements explained (python for data science basics #4)',\n",
       " 'a comparison of logistic regression and naive bayes ',\n",
       " 'analyze db2 warehouse on cloud data in rstudio in dsx',\n",
       " 'country statistics: stock of broad money',\n",
       " 'find airbnb deals in portland with machine learning using r',\n",
       " 'easy json loading and social sharing in dsx notebooks',\n",
       " 'maximize oil company profits',\n",
       " 'country surface area (sq. km)',\n",
       " 'visualize car data with brunel',\n",
       " 'time series anomaly detection algorithms – stats and bots',\n",
       " 'd3heatmap: interactive heat maps',\n",
       " 'reducing overplotting in scatterplots',\n",
       " 'united states demographic measures: zip code tabulation areas (zctas)',\n",
       " 'life expectancy at birth by country in total years',\n",
       " 'python machine learning: scikit-learn tutorial',\n",
       " 'optimizing a marketing campaign: moving from predictions to actions',\n",
       " 'using the maker palette in the ibm data science experience',\n",
       " 'airbnb data for analytics: vienna listings',\n",
       " 'mobile cellular subscriptions per 100 people by country',\n",
       " 'airbnb data for analytics: paris calendar',\n",
       " 'tidy up your jupyter notebooks with scripts',\n",
       " 'pixiedust 1.0 is here! – ibm watson data lab',\n",
       " '8 ways to turn data into value with apache spark machine learning',\n",
       " 'use the cloudant-spark connector in python notebook',\n",
       " 'intelligent applications - apache spark',\n",
       " 'working with db2 warehouse on cloud in data science experience',\n",
       " 'primary school completion rate % of relevant age group by country',\n",
       " 'apache spark @scale: a 60 tb+ production use case',\n",
       " 'awesome deep learning papers',\n",
       " 'probabilistic graphical models tutorial\\u200a—\\u200apart 1 – stats and bots',\n",
       " 'watson machine learning for developers',\n",
       " 'this week in data science (october 18, 2016)',\n",
       " 'a fast on-disk format for data frames for r and python, powered by apache arrow',\n",
       " \"h2o with ibm's data science experience (dsx)\",\n",
       " '51822    using apache spark as a parallel processing fr...\\nName: title, dtype: object',\n",
       " 'country statistics: commercial bank prime lending rate',\n",
       " '10 pieces of advice to beginner data scientists',\n",
       " 'worldwide electricity demand and production 1990-2012',\n",
       " 'deep learning achievements over the past year ',\n",
       " 'neural networks for beginners: popular types and applications',\n",
       " 'the data processing inequality',\n",
       " 'this week in data science (february 7, 2017)',\n",
       " 'city population by sex, city and city type',\n",
       " 'mapping points with folium',\n",
       " 'r for data science',\n",
       " 'airbnb data for analytics: barcelona listings',\n",
       " 'annual % inflation by country',\n",
       " 'access ibm analytics for apache spark from rstudio',\n",
       " 'airbnb data for analytics: trentino calendar',\n",
       " 'adoption of machine learning to software failure prediction',\n",
       " 'a day in the life of a data engineer',\n",
       " 'pixiedust: magic for your python notebook',\n",
       " 'shiny: a data scientist’s best friend',\n",
       " 'migrating to python 3 with pleasure',\n",
       " 'using machine learning to predict parking difficulty',\n",
       " 'best packages for data manipulation in r',\n",
       " 'uci: heart disease - cleveland',\n",
       " 'country statistics: internet users',\n",
       " 'an introduction to stock market data analysis with r (part 1)',\n",
       " 'this week in data science (april 25, 2017)',\n",
       " 'the data science process',\n",
       " 'continuous learning on watson',\n",
       " 'external debt stocks, total (dod, current us$) by country',\n",
       " 'time series analysis using max/min and neuroscience',\n",
       " 'use r dataframes & ibm watson natural language understanding',\n",
       " 'recommender systems: approaches & algorithms',\n",
       " 'movie recommender system with spark machine learning',\n",
       " 'working with ibm cloud object storage in r',\n",
       " 'tensorflow quick tips',\n",
       " 'upload files to ibm data science experience using the command line',\n",
       " 'country statistics: industrial production growth rate',\n",
       " 'airbnb data for analytics: antwerp reviews',\n",
       " 'country statistics: electricity - from fossil fuels',\n",
       " 'statistics for hackers',\n",
       " 'total population by country',\n",
       " '0 to life-changing app: scala first steps and an interview with jakob odersky',\n",
       " 'the new builders podcast ep 3: collaboration',\n",
       " 'airbnb data for analytics: seattle calendar',\n",
       " 'airbnb data for analytics: washington d.c. listings',\n",
       " 'develop a scala spark model on chicago building violations',\n",
       " '10 powerful features on watson data platform, no coding necessary',\n",
       " 'airbnb data for analytics: vienna calendar',\n",
       " 'announcing dsx environments in beta!',\n",
       " '502    forgetting the past to learn the future: long ...\\nName: title, dtype: object',\n",
       " 'visualize the 1854 london cholera outbreak',\n",
       " 'deep learning from scratch i: computational graphs',\n",
       " 'airbnb data for analytics: oakland reviews',\n",
       " '3 scenarios for machine learning on multicloud',\n",
       " 'data visualization playbook: revisiting the basics',\n",
       " 'use apache systemml and spark for machine learning',\n",
       " 'united states demographic measures: income',\n",
       " 'analyze traffic data from the city of san francisco',\n",
       " 'this week in data science (december 27, 2016)',\n",
       " 'interactive web apps with shiny cheat sheet',\n",
       " 'airbnb data for analytics: austin calendar',\n",
       " 'ibm watson facebook posts for 2015',\n",
       " 'data science experience documentation',\n",
       " 'airbnb data for analytics: amsterdam listings',\n",
       " 'machine learning for everyone',\n",
       " 'forest area by country in sq km',\n",
       " 'analyze ny restaurant data using spark in dsx',\n",
       " 'the pandas data analysis library',\n",
       " 'energy use (kg of oil equivalent per capita) by country',\n",
       " '54174    detect potentially malfunctioning sensors in r...\\nName: title, dtype: object',\n",
       " 'access mysql with python',\n",
       " 'mycheatsheets.com',\n",
       " 'use pmml to predict iris species',\n",
       " 'airbnb data for analytics: madrid listings',\n",
       " 'data science in the cloud',\n",
       " 'gradient boosting explained',\n",
       " 'finding the user in data science',\n",
       " 'sudoku',\n",
       " 'modeling energy usage in new york city',\n",
       " 'data visualization with ggplot2 cheat sheet',\n",
       " 'recommendation system algorithms – stats and bots',\n",
       " 'airbnb data for analytics: san diego reviews',\n",
       " '10 tips on using jupyter notebook',\n",
       " 'introduction to neural networks, advantages and applications',\n",
       " 'building a business that combines human experts and data science',\n",
       " 'r markdown reference guide',\n",
       " 'laplace noising versus simulated out of sample methods (cross frames)',\n",
       " 'talent vs luck: the role of randomness in success and failure',\n",
       " 'spark 1.4 for rstudio',\n",
       " 'what caused the challenger disaster?',\n",
       " 'what is machine learning?',\n",
       " '15 page tutorial for r',\n",
       " 'dimensionality reduction algorithms',\n",
       " 'finding optimal locations of new store using decision optimization',\n",
       " 'why you should master r (even if it might eventually become obsolete)',\n",
       " 'categorize urban density',\n",
       " 'cache table in apache spark sql',\n",
       " 'country statistics: distribution of family income - gini index',\n",
       " 'using brunel in ipython/jupyter notebooks',\n",
       " 'uci: wine recognition',\n",
       " 'data tidying in data science experience',\n",
       " 'airbnb data for analytics: antwerp calendar',\n",
       " 'seti data, publicly available, from ibm',\n",
       " 'process events from the watson iot platform in a streams python application',\n",
       " '10 must attend data science, ml and ai conferences in 2018',\n",
       " 'airbnb data for analytics: austin listings',\n",
       " 'electric power consumption (kwh per capita) by country',\n",
       " 'a dynamic duo – inside machine learning – medium',\n",
       " 'airbnb data for analytics: new orleans reviews',\n",
       " 'analyze precipitation data',\n",
       " 'build deep learning architectures with neural network modeler',\n",
       " 'what is spark?',\n",
       " 'country statistics: crude oil - proved reserves',\n",
       " 'airbnb data for analytics: sydney listings',\n",
       " 'annual precipitation by country 1990-2009',\n",
       " 'machine learning and the science of choosing',\n",
       " 'country statistics: telephones - mobile cellular',\n",
       " 'classify tumors with machine learning',\n",
       " 'country population by gender 1985-2005',\n",
       " 'cifar-100 - python version',\n",
       " 'which one to choose for your problem',\n",
       " 'customers of a telco including services used',\n",
       " 'xml2 1.0.0',\n",
       " 'airbnb data for analytics: athens calendar',\n",
       " 'adolescent fertility rate (births per 1,000 women ages 15-19), worldwide',\n",
       " 'country statistics: infant mortality rate',\n",
       " '7292    a dramatic tour through python’s data visualiz...\\nName: title, dtype: object',\n",
       " 'social media insights with watson developer cloud & watson studio',\n",
       " 'apache spark lab, part 3: machine learning',\n",
       " 'don’t overlook simpler techniques and algorithms',\n",
       " 'analyze accident reports on amazon emr spark',\n",
       " 'from scikit-learn model to cloud with wml client',\n",
       " 'the unit commitment problem',\n",
       " 'shaping data with ibm data refinery',\n",
       " 'leverage scikit-learn models with core ml',\n",
       " 'predict loan applicant behavior with tensorflow neural networking',\n",
       " 'better together: spss and data science experience',\n",
       " 'when machine learning matters · erik bernhardsson',\n",
       " 'airbnb data for analytics: vancouver calendar',\n",
       " 'improving real-time object detection with yolo',\n",
       " 'how to perform a logistic regression in r',\n",
       " 'random forest interpretation – conditional feature contributions',\n",
       " 'country statistics: life expectancy at birth',\n",
       " 'country statistics: gross national saving',\n",
       " 'data structures related to machine learning algorithms',\n",
       " \"a kaggler's guide to model stacking in practice\",\n",
       " 'using pixiedust for fast, flexible, and easier data analysis and experimentation',\n",
       " 'healthcare python streaming application demo',\n",
       " 'web picks - dataminingapps',\n",
       " 'uci: poker hand - testing data set',\n",
       " 'country statistics: merchant marine',\n",
       " 'transfer learning for flight delay prediction via variational autoencoders',\n",
       " 'workflow in r',\n",
       " 'cleaning the swamp: turn your data lake into a source of crystal-clear insight',\n",
       " 'agriculture, value added (% of gdp) by country',\n",
       " 'contraceptive prevalence (% women 15-49) by country',\n",
       " \"2875    hugo larochelle's neural network & deep learni...\\nName: title, dtype: object\",\n",
       " 'this week in data science (march 7, 2017)',\n",
       " 'perform sentiment analysis with lstms, using tensorflow',\n",
       " 'top 10 machine learning use cases: part 1',\n",
       " 'rapidly build machine learning flows with dsx',\n",
       " 'make machine learning a reality for your enterprise',\n",
       " 'what is smote in an imbalanced class setting (e.g. fraud detection)?',\n",
       " 'pseudo-labeling a simple semi-supervised learning method',\n",
       " 'car performance data',\n",
       " 'airbnb data for analytics: washington d.c. calendar',\n",
       " 'data visualization playbook: telling the data story',\n",
       " \"for ai to get creative, it must learn the rules--then how to break 'em\",\n",
       " '3992    using apache spark to predict attack vectors a...\\nName: title, dtype: object',\n",
       " '8170    data science expert interview: dez blanchfield...\\nName: title, dtype: object',\n",
       " 'how to use db2 warehouse on cloud in data science experience notebooks',\n",
       " 'the random forest algorithm ',\n",
       " 'apache spark lab, part 2: querying data',\n",
       " 'common excel tasks demonstrated in\\xa0pandas',\n",
       " 'dry bulb temperature, by country, station and year',\n",
       " 'deploy your python model as a restful api',\n",
       " 'airbnb data for analytics: barcelona reviews',\n",
       " 'airbnb data for analytics: toronto listings',\n",
       " 'airbnb data for analytics: brussels reviews',\n",
       " 'statistical bias types explained (with examples)',\n",
       " 'employed population by occupation and age',\n",
       " 'from python nested lists to multidimensional numpy arrays',\n",
       " 'jupyter (ipython) notebooks features',\n",
       " 'airbnb data for analytics: toronto reviews',\n",
       " 'building custom machine learning algorithms with apache systemml',\n",
       " 'beyond parallelize and collect',\n",
       " 'use sql with data in hadoop python',\n",
       " 'discover hidden facebook usage insights',\n",
       " 'international liquidity',\n",
       " 'load and analyze public data sets in dsx',\n",
       " 'build a logistic regression model with wml & dsx',\n",
       " 'this week in data science',\n",
       " 'airbnb data for analytics: venice reviews']"
      ]
     },
     "execution_count": 25,
     "metadata": {},
     "output_type": "execute_result"
    }
   ],
   "source": [
    "# Check Results\n",
    "get_article_names(user_user_recs(1, 10)) # Return 10 recommendations for user 1"
   ]
  },
  {
   "cell_type": "code",
   "execution_count": 26,
   "metadata": {},
   "outputs": [
    {
     "name": "stdout",
     "output_type": "stream",
     "text": [
      "If this is all you see, you passed all of our tests!  Nice job!\n"
     ]
    }
   ],
   "source": [
    "# Test your functions here - No need to change this code - just run this cell\n",
    "assert set(get_article_names(['1024.0', '1176.0', '1305.0', '1314.0', '1422.0', '1427.0'])) == set(['using deep learning to reconstruct high-resolution audio', 'build a python app on the streaming analytics service', 'gosales transactions for naive bayes model', 'healthcare python streaming application demo', 'use r dataframes & ibm watson natural language understanding', 'use xgboost, scikit-learn & ibm watson machine learning apis']), \"Oops! Your the get_article_names function doesn't work quite how we expect.\"\n",
    "assert set(get_article_names(['1320.0', '232.0', '844.0'])) == set(['housing (2015): united states demographic measures','self-service data preparation with ibm data refinery','use the cloudant-spark connector in python notebook']), \"Oops! Your the get_article_names function doesn't work quite how we expect.\"\n",
    "assert set(get_user_articles(20)[0]) == set(['1320.0', '232.0', '844.0'])\n",
    "assert set(get_user_articles(20)[1]) == set(['housing (2015): united states demographic measures', 'self-service data preparation with ibm data refinery','use the cloudant-spark connector in python notebook'])\n",
    "assert set(get_user_articles(2)[0]) == set(['1024.0', '1176.0', '1305.0', '1314.0', '1422.0', '1427.0'])\n",
    "assert set(get_user_articles(2)[1]) == set(['using deep learning to reconstruct high-resolution audio', 'build a python app on the streaming analytics service', 'gosales transactions for naive bayes model', 'healthcare python streaming application demo', 'use r dataframes & ibm watson natural language understanding', 'use xgboost, scikit-learn & ibm watson machine learning apis'])\n",
    "print(\"If this is all you see, you passed all of our tests!  Nice job!\")"
   ]
  },
  {
   "cell_type": "markdown",
   "metadata": {},
   "source": [
    "`4.` Now we are going to improve the consistency of the **user_user_recs** function from above.  \n",
    "\n",
    "* Instead of arbitrarily choosing when we obtain users who are all the same closeness to a given user - choose the users that have the most total article interactions before choosing those with fewer article interactions.\n",
    "\n",
    "\n",
    "* Instead of arbitrarily choosing articles from the user where the number of recommended articles starts below m and ends exceeding m, choose articles with the articles with the most total interactions before choosing those with fewer total interactions. This ranking should be  what would be obtained from the **top_articles** function you wrote earlier."
   ]
  },
  {
   "cell_type": "code",
   "execution_count": 27,
   "metadata": {},
   "outputs": [],
   "source": [
    "def get_top_sorted_users(user_id, df=df, user_item=user_item):\n",
    "    '''\n",
    "    INPUT:\n",
    "    user_id - (int)\n",
    "    df - (pandas dataframe) df as defined at the top of the notebook \n",
    "    user_item - (pandas dataframe) matrix of users by articles: \n",
    "            1's when a user has interacted with an article, 0 otherwise\n",
    "    \n",
    "            \n",
    "    OUTPUT:\n",
    "    neighbors_df - (pandas dataframe) a dataframe with:\n",
    "                    neighbor_id - is a neighbor user_id\n",
    "                    similarity - measure of the similarity of each user to the provided user_id\n",
    "                    num_interactions - the number of articles viewed by the user - if a u\n",
    "                    \n",
    "    Other Details - sort the neighbors_df by the similarity and then by number of interactions where \n",
    "                    highest of each is higher in the dataframe\n",
    "     \n",
    "    '''\n",
    "    \n",
    "    # Find the similarity of each user to all the other users \n",
    "    # (identified by user_id) by dotting the row with the other user rows\n",
    "    similarity = user_item.dot(user_item.loc[user_id])\n",
    "    \n",
    "    # Sort by similarity of each user\n",
    "    similarity = similarity.sort_values(ascending=False).drop(user_id).to_frame(name='similarity').reset_index()\n",
    "    \n",
    "    # Create the number of articles viewed by the user dataframe\n",
    "    num_interactions = df.user_id.value_counts().to_frame('num_interactions')\n",
    "    \n",
    "    # Merge num_interactions with similarity to create a complete neighbour dataframe\n",
    "    neighbors_df = similarity.merge(num_interactions, left_on='user_id', \n",
    "                        right_index=True).rename(columns={'user_id':'neighbor_id'})\n",
    "    \n",
    "    # Sort the neighbors_df by the similarity and then by number of interactions where \n",
    "    # highest of each is higher in the dataframe\n",
    "    neighbors_df.sort_values(by=['similarity', 'num_interactions'], ascending=False, inplace=True)\n",
    "    \n",
    "    \n",
    "    return neighbors_df \n",
    "\n",
    "def user_user_recs_part2(user_id, m=10):\n",
    "    '''\n",
    "    INPUT:\n",
    "    user_id - (int) a user id\n",
    "    m - (int) the number of recommendations you want for the user\n",
    "    \n",
    "    OUTPUT:\n",
    "    recs - (list) a list of recommendations for the user by article id\n",
    "    rec_names - (list) a list of recommendations for the user by article title\n",
    "    \n",
    "    Description:\n",
    "    Loops through the users based on closeness to the input user_id\n",
    "    For each user - finds articles the user hasn't seen before and provides them as recs\n",
    "    Does this until m recommendations are found\n",
    "    \n",
    "    Notes:\n",
    "    * Choose the users that have the most total article interactions \n",
    "    before choosing those with fewer article interactions.\n",
    "\n",
    "    * Choose articles with the articles with the most total interactions \n",
    "    before choosing those with fewer total interactions. \n",
    "   \n",
    "    '''\n",
    "    neighbors_df = get_top_sorted_users(user_id)\n",
    "    \n",
    "    # Get the top-m neighbours with similarity and most article read (interactions)\n",
    "    top_neighbors = list(neighbors_df[:m]['neighbor_id'])\n",
    "\n",
    "    # Find the article_ids seen by top-m neighbors\n",
    "    recs = []\n",
    "    for user in top_neighbors:\n",
    "        neighbour_article_ids = user_item.loc[user]\n",
    "        recs.extend([str(article_id) for article_id in neighbour_article_ids[neighbour_article_ids == 1].index])\n",
    "\n",
    "    # Remove all duplicates\n",
    "    recs = list(set(recs[:m]))\n",
    "\n",
    "    # Get article names and remove duplicates\n",
    "    rec_names = list(set(df[df['article_id'].isin(recs)]['title']))\n",
    "    \n",
    "    return recs, rec_names"
   ]
  },
  {
   "cell_type": "code",
   "execution_count": 28,
   "metadata": {},
   "outputs": [
    {
     "name": "stdout",
     "output_type": "stream",
     "text": [
      "The top 10 recommendations for user 20 are the following article ids:\n",
      "['205.0', '232.0', '12.0', '125.0', '302.0', '142.0', '164.0', '109.0', '336.0', '362.0']\n",
      "\n",
      "The top 10 recommendations for user 20 are the following article names:\n",
      "['timeseries data analysis of iot events by using jupyter notebook', 'neural networks for beginners: popular types and applications', 'tensorflow quick tips', 'self-service data preparation with ibm data refinery', 'challenges in deep learning', 'accelerate your workflow with dsx', \"a beginner's guide to variational methods\", 'dsx: hybrid mode', 'learn tensorflow and deep learning together and now!', 'statistics for hackers']\n"
     ]
    }
   ],
   "source": [
    "# Quick spot check - don't change this code - just use it to test your functions\n",
    "rec_ids, rec_names = user_user_recs_part2(20, 10)\n",
    "print(\"The top 10 recommendations for user 20 are the following article ids:\")\n",
    "print(rec_ids)\n",
    "print()\n",
    "print(\"The top 10 recommendations for user 20 are the following article names:\")\n",
    "print(rec_names)"
   ]
  },
  {
   "cell_type": "markdown",
   "metadata": {},
   "source": [
    "`5.` Use your functions from above to correctly fill in the solutions to the dictionary below.  Then test your dictionary against the solution.  Provide the code you need to answer each following the comments below."
   ]
  },
  {
   "cell_type": "code",
   "execution_count": 29,
   "metadata": {},
   "outputs": [],
   "source": [
    "### Tests with a dictionary of results\n",
    "\n",
    "user1_most_sim = get_top_sorted_users(1).iloc[0][0]# Find the user that is most similar to user 1 \n",
    "user131_10th_sim = get_top_sorted_users(131).iloc[9][0] # Find the 10th most similar user to user 131"
   ]
  },
  {
   "cell_type": "code",
   "execution_count": 30,
   "metadata": {},
   "outputs": [
    {
     "name": "stdout",
     "output_type": "stream",
     "text": [
      "This all looks good!  Nice job!\n"
     ]
    }
   ],
   "source": [
    "## Dictionary Test Here\n",
    "sol_5_dict = {\n",
    "    'The user that is most similar to user 1.': user1_most_sim, \n",
    "    'The user that is the 10th most similar to user 131': user131_10th_sim,\n",
    "}\n",
    "\n",
    "t.sol_5_test(sol_5_dict)"
   ]
  },
  {
   "cell_type": "markdown",
   "metadata": {},
   "source": [
    "`6.` If we were given a new user, which of the above functions would you be able to use to make recommendations?  Explain.  Can you think of a better way we might make recommendations?  Use the cell below to explain a better method for new users."
   ]
  },
  {
   "cell_type": "markdown",
   "metadata": {},
   "source": [
    "**Provide your response here.**"
   ]
  },
  {
   "cell_type": "markdown",
   "metadata": {},
   "source": [
    "`7.` Using your existing functions, provide the top 10 recommended articles you would provide for the a new user below.  You can test your function against our thoughts to make sure we are all on the same page with how we might make a recommendation."
   ]
  },
  {
   "cell_type": "code",
   "execution_count": 31,
   "metadata": {
    "scrolled": true
   },
   "outputs": [],
   "source": [
    "new_user = '0.0'\n",
    "\n",
    "# What would your recommendations be for this new user '0.0'?  As a new user, they have no observed articles.\n",
    "# Provide a list of the top 10 article ids you would give to \n",
    "new_user_recs = get_top_article_ids(10) # Your recommendations here\n",
    "\n"
   ]
  },
  {
   "cell_type": "code",
   "execution_count": 32,
   "metadata": {},
   "outputs": [
    {
     "name": "stdout",
     "output_type": "stream",
     "text": [
      "That's right!  Nice job!\n"
     ]
    }
   ],
   "source": [
    "assert set(new_user_recs) == set(['1314.0','1429.0','1293.0','1427.0','1162.0','1364.0','1304.0','1170.0','1431.0','1330.0']), \"Oops!  It makes sense that in this case we would want to recommend the most popular articles, because we don't know anything about these users.\"\n",
    "\n",
    "print(\"That's right!  Nice job!\")"
   ]
  },
  {
   "cell_type": "markdown",
   "metadata": {},
   "source": [
    "### <a class=\"anchor\" id=\"Content-Recs\">Part IV: Content Based Recommendations (EXTRA - NOT REQUIRED)</a>\n",
    "\n",
    "Another method we might use to make recommendations is to perform a ranking of the highest ranked articles associated with some term.  You might consider content to be the **doc_body**, **doc_description**, or **doc_full_name**.  There isn't one way to create a content based recommendation, especially considering that each of these columns hold content related information.  \n",
    "\n",
    "`1.` Use the function body below to create a content based recommender.  Since there isn't one right answer for this recommendation tactic, no test functions are provided.  Feel free to change the function inputs if you decide you want to try a method that requires more input values.  The input values are currently set with one idea in mind that you may use to make content based recommendations.  One additional idea is that you might want to choose the most popular recommendations that meet your 'content criteria', but again, there is a lot of flexibility in how you might make these recommendations.\n",
    "\n",
    "### This part is NOT REQUIRED to pass this project.  However, you may choose to take this on as an extra way to show off your skills."
   ]
  },
  {
   "cell_type": "code",
   "execution_count": 33,
   "metadata": {},
   "outputs": [],
   "source": [
    "def tokenize(text):\n",
    "    \"\"\"\n",
    "        Tokenizes text data\n",
    "\n",
    "        Args:\n",
    "        text: text string\n",
    "        Returns:\n",
    "        An array of text after normalizing, tokenizing and lemmatizing\n",
    "    \"\"\"\n",
    "    # Normalize text\n",
    "    text = re.sub(r\"[^a-zA-Z0-9]\", \" \", text.lower())\n",
    "\n",
    "    # Tokenize text\n",
    "    tokenized = word_tokenize(text)\n",
    "\n",
    "    #Stop words removal\n",
    "    sw_removed = [w for w in tokenized if w not in stopwords.words(\"english\")]\n",
    "\n",
    "    # Returns the lemmatized text\n",
    "    return [WordNetLemmatizer().lemmatize(w, pos='v') for w in sw_removed]"
   ]
  },
  {
   "cell_type": "code",
   "execution_count": 34,
   "metadata": {},
   "outputs": [],
   "source": [
    "def make_content_recs():\n",
    "    '''\n",
    "    INPUT:\n",
    "    \n",
    "    OUTPUT:\n",
    "    \n",
    "    '''"
   ]
  },
  {
   "cell_type": "markdown",
   "metadata": {},
   "source": [
    "`2.` Now that you have put together your content-based recommendation system, use the cell below to write a summary explaining how your content based recommender works.  Do you see any possible improvements that could be made to your function?  Is there anything novel about your content based recommender?\n",
    "\n",
    "### This part is NOT REQUIRED to pass this project.  However, you may choose to take this on as an extra way to show off your skills."
   ]
  },
  {
   "cell_type": "markdown",
   "metadata": {},
   "source": [
    "**Write an explanation of your content based recommendation system here.**"
   ]
  },
  {
   "cell_type": "markdown",
   "metadata": {},
   "source": [
    "`3.` Use your content-recommendation system to make recommendations for the below scenarios based on the comments.  Again no tests are provided here, because there isn't one right answer that could be used to find these content based recommendations.\n",
    "\n",
    "### This part is NOT REQUIRED to pass this project.  However, you may choose to take this on as an extra way to show off your skills."
   ]
  },
  {
   "cell_type": "code",
   "execution_count": 35,
   "metadata": {},
   "outputs": [],
   "source": [
    "# make recommendations for a brand new user\n",
    "\n",
    "\n",
    "# make a recommendations for a user who only has interacted with article id '1427.0'\n",
    "\n"
   ]
  },
  {
   "cell_type": "markdown",
   "metadata": {},
   "source": [
    "### <a class=\"anchor\" id=\"Matrix-Fact\">Part V: Matrix Factorization</a>\n",
    "\n",
    "In this part of the notebook, you will build use matrix factorization to make article recommendations to the users on the IBM Watson Studio platform.\n",
    "\n",
    "`1.` You should have already created a **user_item** matrix above in **question 1** of **Part III** above.  This first question here will just require that you run the cells to get things set up for the rest of **Part V** of the notebook. "
   ]
  },
  {
   "cell_type": "code",
   "execution_count": 36,
   "metadata": {},
   "outputs": [],
   "source": [
    "# Load the matrix here\n",
    "user_item_matrix = pd.read_pickle('./data/user_item_matrix.p')"
   ]
  },
  {
   "cell_type": "code",
   "execution_count": 37,
   "metadata": {},
   "outputs": [
    {
     "data": {
      "text/html": [
       "<div>\n",
       "<style scoped>\n",
       "    .dataframe tbody tr th:only-of-type {\n",
       "        vertical-align: middle;\n",
       "    }\n",
       "\n",
       "    .dataframe tbody tr th {\n",
       "        vertical-align: top;\n",
       "    }\n",
       "\n",
       "    .dataframe thead th {\n",
       "        text-align: right;\n",
       "    }\n",
       "</style>\n",
       "<table border=\"1\" class=\"dataframe\">\n",
       "  <thead>\n",
       "    <tr style=\"text-align: right;\">\n",
       "      <th>article_id</th>\n",
       "      <th>0.0</th>\n",
       "      <th>2.0</th>\n",
       "      <th>4.0</th>\n",
       "      <th>8.0</th>\n",
       "      <th>9.0</th>\n",
       "      <th>12.0</th>\n",
       "      <th>14.0</th>\n",
       "      <th>15.0</th>\n",
       "      <th>16.0</th>\n",
       "      <th>18.0</th>\n",
       "      <th>...</th>\n",
       "      <th>1434.0</th>\n",
       "      <th>1435.0</th>\n",
       "      <th>1436.0</th>\n",
       "      <th>1437.0</th>\n",
       "      <th>1439.0</th>\n",
       "      <th>1440.0</th>\n",
       "      <th>1441.0</th>\n",
       "      <th>1442.0</th>\n",
       "      <th>1443.0</th>\n",
       "      <th>1444.0</th>\n",
       "    </tr>\n",
       "    <tr>\n",
       "      <th>user_id</th>\n",
       "      <th></th>\n",
       "      <th></th>\n",
       "      <th></th>\n",
       "      <th></th>\n",
       "      <th></th>\n",
       "      <th></th>\n",
       "      <th></th>\n",
       "      <th></th>\n",
       "      <th></th>\n",
       "      <th></th>\n",
       "      <th></th>\n",
       "      <th></th>\n",
       "      <th></th>\n",
       "      <th></th>\n",
       "      <th></th>\n",
       "      <th></th>\n",
       "      <th></th>\n",
       "      <th></th>\n",
       "      <th></th>\n",
       "      <th></th>\n",
       "      <th></th>\n",
       "    </tr>\n",
       "  </thead>\n",
       "  <tbody>\n",
       "    <tr>\n",
       "      <th>1</th>\n",
       "      <td>0</td>\n",
       "      <td>0</td>\n",
       "      <td>0</td>\n",
       "      <td>0</td>\n",
       "      <td>0</td>\n",
       "      <td>0</td>\n",
       "      <td>0</td>\n",
       "      <td>0</td>\n",
       "      <td>0</td>\n",
       "      <td>0</td>\n",
       "      <td>...</td>\n",
       "      <td>0</td>\n",
       "      <td>0</td>\n",
       "      <td>1</td>\n",
       "      <td>0</td>\n",
       "      <td>1</td>\n",
       "      <td>0</td>\n",
       "      <td>0</td>\n",
       "      <td>0</td>\n",
       "      <td>0</td>\n",
       "      <td>0</td>\n",
       "    </tr>\n",
       "    <tr>\n",
       "      <th>2</th>\n",
       "      <td>0</td>\n",
       "      <td>0</td>\n",
       "      <td>0</td>\n",
       "      <td>0</td>\n",
       "      <td>0</td>\n",
       "      <td>0</td>\n",
       "      <td>0</td>\n",
       "      <td>0</td>\n",
       "      <td>0</td>\n",
       "      <td>0</td>\n",
       "      <td>...</td>\n",
       "      <td>0</td>\n",
       "      <td>0</td>\n",
       "      <td>0</td>\n",
       "      <td>0</td>\n",
       "      <td>0</td>\n",
       "      <td>0</td>\n",
       "      <td>0</td>\n",
       "      <td>0</td>\n",
       "      <td>0</td>\n",
       "      <td>0</td>\n",
       "    </tr>\n",
       "    <tr>\n",
       "      <th>3</th>\n",
       "      <td>0</td>\n",
       "      <td>0</td>\n",
       "      <td>0</td>\n",
       "      <td>0</td>\n",
       "      <td>0</td>\n",
       "      <td>1</td>\n",
       "      <td>0</td>\n",
       "      <td>0</td>\n",
       "      <td>0</td>\n",
       "      <td>0</td>\n",
       "      <td>...</td>\n",
       "      <td>0</td>\n",
       "      <td>0</td>\n",
       "      <td>1</td>\n",
       "      <td>0</td>\n",
       "      <td>0</td>\n",
       "      <td>0</td>\n",
       "      <td>0</td>\n",
       "      <td>0</td>\n",
       "      <td>0</td>\n",
       "      <td>0</td>\n",
       "    </tr>\n",
       "    <tr>\n",
       "      <th>4</th>\n",
       "      <td>0</td>\n",
       "      <td>0</td>\n",
       "      <td>0</td>\n",
       "      <td>0</td>\n",
       "      <td>0</td>\n",
       "      <td>0</td>\n",
       "      <td>0</td>\n",
       "      <td>0</td>\n",
       "      <td>0</td>\n",
       "      <td>0</td>\n",
       "      <td>...</td>\n",
       "      <td>0</td>\n",
       "      <td>0</td>\n",
       "      <td>0</td>\n",
       "      <td>0</td>\n",
       "      <td>0</td>\n",
       "      <td>0</td>\n",
       "      <td>0</td>\n",
       "      <td>0</td>\n",
       "      <td>0</td>\n",
       "      <td>0</td>\n",
       "    </tr>\n",
       "    <tr>\n",
       "      <th>5</th>\n",
       "      <td>0</td>\n",
       "      <td>0</td>\n",
       "      <td>0</td>\n",
       "      <td>0</td>\n",
       "      <td>0</td>\n",
       "      <td>0</td>\n",
       "      <td>0</td>\n",
       "      <td>0</td>\n",
       "      <td>0</td>\n",
       "      <td>0</td>\n",
       "      <td>...</td>\n",
       "      <td>0</td>\n",
       "      <td>0</td>\n",
       "      <td>0</td>\n",
       "      <td>0</td>\n",
       "      <td>0</td>\n",
       "      <td>0</td>\n",
       "      <td>0</td>\n",
       "      <td>0</td>\n",
       "      <td>0</td>\n",
       "      <td>0</td>\n",
       "    </tr>\n",
       "  </tbody>\n",
       "</table>\n",
       "<p>5 rows × 714 columns</p>\n",
       "</div>"
      ],
      "text/plain": [
       "article_id  0.0     2.0     4.0     8.0     9.0     12.0    14.0    15.0    \\\n",
       "user_id                                                                      \n",
       "1                0       0       0       0       0       0       0       0   \n",
       "2                0       0       0       0       0       0       0       0   \n",
       "3                0       0       0       0       0       1       0       0   \n",
       "4                0       0       0       0       0       0       0       0   \n",
       "5                0       0       0       0       0       0       0       0   \n",
       "\n",
       "article_id  16.0    18.0     ...    1434.0  1435.0  1436.0  1437.0  1439.0  \\\n",
       "user_id                      ...                                             \n",
       "1                0       0   ...         0       0       1       0       1   \n",
       "2                0       0   ...         0       0       0       0       0   \n",
       "3                0       0   ...         0       0       1       0       0   \n",
       "4                0       0   ...         0       0       0       0       0   \n",
       "5                0       0   ...         0       0       0       0       0   \n",
       "\n",
       "article_id  1440.0  1441.0  1442.0  1443.0  1444.0  \n",
       "user_id                                             \n",
       "1                0       0       0       0       0  \n",
       "2                0       0       0       0       0  \n",
       "3                0       0       0       0       0  \n",
       "4                0       0       0       0       0  \n",
       "5                0       0       0       0       0  \n",
       "\n",
       "[5 rows x 714 columns]"
      ]
     },
     "execution_count": 37,
     "metadata": {},
     "output_type": "execute_result"
    }
   ],
   "source": [
    "# quick look at the matrix\n",
    "user_item_matrix.head()"
   ]
  },
  {
   "cell_type": "markdown",
   "metadata": {},
   "source": [
    "`2.` In this situation, you can use Singular Value Decomposition from [numpy](https://docs.scipy.org/doc/numpy-1.14.0/reference/generated/numpy.linalg.svd.html) on the user-item matrix.  Use the cell to perform SVD, and explain why this is different than in the lesson."
   ]
  },
  {
   "cell_type": "code",
   "execution_count": 38,
   "metadata": {},
   "outputs": [],
   "source": [
    "# Perform SVD on the User-Item Matrix Here\n",
    "\n",
    "u, s, vt = np.linalg.svd(user_item_matrix)# use the built in to get the three matrices"
   ]
  },
  {
   "cell_type": "code",
   "execution_count": 39,
   "metadata": {},
   "outputs": [
    {
     "data": {
      "text/plain": [
       "(5149, 5149)"
      ]
     },
     "execution_count": 39,
     "metadata": {},
     "output_type": "execute_result"
    }
   ],
   "source": [
    "u.shape"
   ]
  },
  {
   "cell_type": "code",
   "execution_count": 40,
   "metadata": {},
   "outputs": [
    {
     "data": {
      "text/plain": [
       "(714,)"
      ]
     },
     "execution_count": 40,
     "metadata": {},
     "output_type": "execute_result"
    }
   ],
   "source": [
    "s.shape"
   ]
  },
  {
   "cell_type": "code",
   "execution_count": 41,
   "metadata": {},
   "outputs": [
    {
     "data": {
      "text/plain": [
       "(714, 714)"
      ]
     },
     "execution_count": 41,
     "metadata": {},
     "output_type": "execute_result"
    }
   ],
   "source": [
    "vt.shape"
   ]
  },
  {
   "cell_type": "markdown",
   "metadata": {},
   "source": [
    "**Provide your response here.**"
   ]
  },
  {
   "cell_type": "markdown",
   "metadata": {},
   "source": [
    "`3.` Now for the tricky part, how do we choose the number of latent features to use?  Running the below cell, you can see that as the number of latent features increases, we obtain a lower error rate on making predictions for the 1 and 0 values in the user-item matrix.  Run the cell below to get an idea of how the accuracy improves as we increase the number of latent features."
   ]
  },
  {
   "cell_type": "code",
   "execution_count": 42,
   "metadata": {},
   "outputs": [
    {
     "data": {
      "image/png": "[encoded data removed]",
      "text/plain": [
       "<Figure size 432x288 with 1 Axes>"
      ]
     },
     "metadata": {
      "needs_background": "light"
     },
     "output_type": "display_data"
    }
   ],
   "source": [
    "num_latent_feats = np.arange(10,700+10,20)\n",
    "sum_errs = []\n",
    "\n",
    "for k in num_latent_feats:\n",
    "    # restructure with k latent features\n",
    "    s_new, u_new, vt_new = np.diag(s[:k]), u[:, :k], vt[:k, :]\n",
    "    \n",
    "    # take dot product\n",
    "    user_item_est = np.around(np.dot(np.dot(u_new, s_new), vt_new))\n",
    "    \n",
    "    # compute error for each prediction to actual value\n",
    "    diffs = np.subtract(user_item_matrix, user_item_est)\n",
    "    \n",
    "    # total errors and keep track of them\n",
    "    err = np.sum(np.sum(np.abs(diffs)))\n",
    "    sum_errs.append(err)\n",
    "    \n",
    "    \n",
    "plt.plot(num_latent_feats, 1 - np.array(sum_errs)/df.shape[0]);\n",
    "plt.xlabel('Number of Latent Features');\n",
    "plt.ylabel('Accuracy');\n",
    "plt.title('Accuracy vs. Number of Latent Features');"
   ]
  },
  {
   "cell_type": "markdown",
   "metadata": {},
   "source": [
    "`4.` From the above, we can't really be sure how many features to use, because simply having a better way to predict the 1's and 0's of the matrix doesn't exactly give us an indication of if we are able to make good recommendations.  Instead, we might split our dataset into a training and test set of data, as shown in the cell below.  \n",
    "\n",
    "Use the code from question 3 to understand the impact on accuracy of the training and test sets of data with different numbers of latent features. Using the split below: \n",
    "\n",
    "* How many users can we make predictions for in the test set?  \n",
    "* How many users are we not able to make predictions for because of the cold start problem?\n",
    "* How many articles can we make predictions for in the test set?  \n",
    "* How many articles are we not able to make predictions for because of the cold start problem?"
   ]
  },
  {
   "cell_type": "code",
   "execution_count": 43,
   "metadata": {},
   "outputs": [],
   "source": [
    "df_train = df.head(40000)\n",
    "df_test = df.tail(5993)\n",
    "\n",
    "def create_test_and_train_user_item(df_train, df_test):\n",
    "    '''\n",
    "    INPUT:\n",
    "    df_train - training dataframe\n",
    "    df_test - test dataframe\n",
    "    \n",
    "    OUTPUT:\n",
    "    user_item_train - a user-item matrix of the training dataframe \n",
    "                      (unique users for each row and unique articles for each column)\n",
    "    user_item_test - a user-item matrix of the testing dataframe \n",
    "                    (unique users for each row and unique articles for each column)\n",
    "    test_idx - all of the test user ids\n",
    "    test_arts - all of the test article ids\n",
    "    \n",
    "    '''\n",
    "    user_item_train = create_user_item_matrix(df_train)\n",
    "    user_item_test = create_user_item_matrix(df_test)\n",
    "\n",
    "    test_idx = user_item_test.index\n",
    "    test_arts = user_item_test.columns\n",
    "    \n",
    "    return user_item_train, user_item_test, test_idx, test_arts\n",
    "\n",
    "user_item_train, user_item_test, test_idx, test_arts = create_test_and_train_user_item(df_train, df_test)"
   ]
  },
  {
   "cell_type": "code",
   "execution_count": 44,
   "metadata": {},
   "outputs": [
    {
     "data": {
      "text/plain": [
       "(4487, 714)"
      ]
     },
     "execution_count": 44,
     "metadata": {},
     "output_type": "execute_result"
    }
   ],
   "source": [
    "user_item_train.shape"
   ]
  },
  {
   "cell_type": "code",
   "execution_count": 45,
   "metadata": {},
   "outputs": [
    {
     "data": {
      "text/plain": [
       "(682, 574)"
      ]
     },
     "execution_count": 45,
     "metadata": {},
     "output_type": "execute_result"
    }
   ],
   "source": [
    "user_item_test.shape"
   ]
  },
  {
   "cell_type": "code",
   "execution_count": 46,
   "metadata": {},
   "outputs": [
    {
     "name": "stdout",
     "output_type": "stream",
     "text": [
      "20 test users that were also in the training set:\n",
      " {3968, 3777, 4002, 3684, 4293, 2917, 4487, 4231, 3527, 4204, 3532, 3024, 4274, 3801, 3093, 3989, 3990, 3193, 3740, 3998}\n"
     ]
    }
   ],
   "source": [
    "print(\"{} test users that were also in the training set:\\n {}\"\n",
    "      .format(len(set(user_item_test.index) & set(user_item_train.index)),  \n",
    "              set(user_item_test.index) & set(user_item_train.index)))\n"
   ]
  },
  {
   "cell_type": "code",
   "execution_count": 47,
   "metadata": {
    "scrolled": true
   },
   "outputs": [
    {
     "name": "stdout",
     "output_type": "stream",
     "text": [
      "662 users in the test set that are not predictable because of the cold start problem\n"
     ]
    }
   ],
   "source": [
    "print(\"{} users in the test set that are not predictable because of the cold start problem\"\n",
    "      .format(len(set(user_item_test.index) - set(user_item_train.index))))"
   ]
  },
  {
   "cell_type": "code",
   "execution_count": 48,
   "metadata": {},
   "outputs": [
    {
     "name": "stdout",
     "output_type": "stream",
     "text": [
      "574 articles we can make predictions for in the test set\n"
     ]
    }
   ],
   "source": [
    "print(\"{} articles we can make predictions for in the test set\"\n",
    "      .format(len(set(user_item_test.columns) & set(user_item_train.columns))))"
   ]
  },
  {
   "cell_type": "code",
   "execution_count": 49,
   "metadata": {},
   "outputs": [
    {
     "name": "stdout",
     "output_type": "stream",
     "text": [
      "0 articles we can not make predictions for in the test set because of the cold start problem\n"
     ]
    }
   ],
   "source": [
    "print(\"{} articles we can not make predictions for in the test set because of the cold start problem\"\n",
    "      .format(len(set(user_item_test.columns) - set(user_item_train.columns))))"
   ]
  },
  {
   "cell_type": "code",
   "execution_count": 50,
   "metadata": {},
   "outputs": [
    {
     "name": "stdout",
     "output_type": "stream",
     "text": [
      "Awesome job!  That's right!  All of the test articles are in the training data, but there are only 20 test users that were also in the training set.  All of the other users that are in the test set we have no data on.  Therefore, we cannot make predictions for these users using SVD.\n"
     ]
    }
   ],
   "source": [
    "# Replace the values in the dictionary below\n",
    "a = 662 \n",
    "b = 574 \n",
    "c = 20 \n",
    "d = 0 \n",
    "\n",
    "\n",
    "sol_4_dict = {\n",
    "    'How many users can we make predictions for in the test set?': c, \n",
    "    'How many users in the test set are we not able to make predictions for because of the cold start problem?': a, \n",
    "    'How many articles can we make predictions for in the test set?': b,\n",
    "    'How many articles in the test set are we not able to make predictions for because of the cold start problem?': d\n",
    "}\n",
    "\n",
    "t.sol_4_test(sol_4_dict)"
   ]
  },
  {
   "cell_type": "markdown",
   "metadata": {},
   "source": [
    "`5.` Now use the **user_item_train** dataset from above to find U, S, and V transpose using SVD. Then find the subset of rows in the **user_item_test** dataset that you can predict using this matrix decomposition with different numbers of latent features to see how many features makes sense to keep based on the accuracy on the test data. This will require combining what was done in questions `2` - `4`.\n",
    "\n",
    "Use the cells below to explore how well SVD works towards making predictions for recommendations on the test data.  "
   ]
  },
  {
   "cell_type": "code",
   "execution_count": 51,
   "metadata": {},
   "outputs": [
    {
     "data": {
      "text/plain": [
       "((4487, 714), (714,), (714, 714))"
      ]
     },
     "execution_count": 51,
     "metadata": {},
     "output_type": "execute_result"
    }
   ],
   "source": [
    "# fit SVD on the user_item_train matrix\n",
    "u_train, s_train, vt_train = np.linalg.svd(user_item_train, full_matrices=False)# fit svd similar to above then use the cells below\n",
    "u_train.shape, s_train.shape, vt_train.shape"
   ]
  },
  {
   "cell_type": "code",
   "execution_count": 52,
   "metadata": {},
   "outputs": [
    {
     "data": {
      "text/plain": [
       "((20, 714), (714, 574))"
      ]
     },
     "execution_count": 52,
     "metadata": {},
     "output_type": "execute_result"
    }
   ],
   "source": [
    "# Use the commons to contruct the test sets\n",
    "u_test = u_train[user_item_train.index.isin(test_idx), :]\n",
    "vt_test = vt_train[:, user_item_train.columns.isin(test_arts)]\n",
    "u_test.shape, vt_test.shape"
   ]
  },
  {
   "cell_type": "code",
   "execution_count": 53,
   "metadata": {},
   "outputs": [],
   "source": [
    "test_users = set(user_item_train.index) & set(user_item_test.index)\n",
    "test_articles = set(user_item_train.columns) & set(user_item_test.columns)\n",
    "user_item_test_prediction = user_item_test.loc[test_users, test_articles]"
   ]
  },
  {
   "cell_type": "code",
   "execution_count": 54,
   "metadata": {},
   "outputs": [],
   "source": [
    "num_latent_feats = np.arange(10,700+10,20)\n",
    "\n",
    "sum_errs_train = []\n",
    "sum_errs_test = []\n",
    "all_errs = []\n",
    "\n",
    "f1_train = []\n",
    "f1_test = []\n",
    "\n",
    "recall_train = []\n",
    "recall_test = []\n",
    "\n",
    "precision_train = []\n",
    "precision_test = []\n",
    "\n",
    "for k in num_latent_feats:\n",
    "    # restructure with k latent features\n",
    "    s_train_new, u_train_new, vt_train_new = np.diag(s_train[:k]), u_train[:, :k], vt_train[:k, :]\n",
    "    u_test_new, vt_test_new = u_test[:, :k], vt_test[:k, :]\n",
    "    \n",
    "    # Use dot product to generate prediction. \n",
    "    train_prediction = np.around(np.dot(np.dot(u_train_new, s_train_new), vt_train_new))\n",
    "    test_prediction = np.around(np.dot(np.dot(u_test_new, s_train_new), vt_test_new))\n",
    "    \n",
    "    # Calculate prediction error. \n",
    "    errs_train = user_item_train - train_prediction #np.subtract(user_item_train, train_prediction)\n",
    "    errs_test = user_item_test_prediction - test_prediction #np.subtract(user_item_test_prediction, test_prediction)\n",
    "    \n",
    "    # Get the errors into historical trail list. \n",
    "    sum_errs_train.append(np.sum(np.sum(np.abs(errs_train))))\n",
    "    sum_errs_test.append(np.sum(np.sum(np.abs(errs_test))))\n",
    "    all_errs.append(1 - ((np.sum(test_prediction)+np.sum(np.sum(user_item_test)))/(user_item_test.shape[0]*user_item_test.shape[1])))\n",
    "    \n",
    "    # Get f1, recall and precision of the prediction. \n",
    "    f1_train.append(f1_score(np.array(user_item_train).flatten(), train_prediction.flatten(), labels=[1.0], average='macro'))\n",
    "    f1_test.append(f1_score(np.array(user_item_test_prediction).flatten(), test_prediction.flatten(), labels=[1.0], average='macro'))\n",
    "    \n",
    "    precision_train.append(precision_score(np.array(user_item_train).flatten(), train_prediction.flatten(), labels=[1.0], average='macro'))\n",
    "    precision_test.append(precision_score(np.array(user_item_test_prediction).flatten(), test_prediction.flatten(), labels=[1.0], average='macro'))\n",
    "    \n",
    "    recall_train.append(recall_score(np.array(user_item_train).flatten(), train_prediction.flatten(), labels=[1.0], average='macro'))\n",
    "    recall_test.append(recall_score(np.array(user_item_test_prediction).flatten(), test_prediction.flatten(), labels=[1.0], average='macro'))"
   ]
  },
  {
   "cell_type": "code",
   "execution_count": 95,
   "metadata": {},
   "outputs": [
    {
     "data": {
      "image/png": "[encoded data removed]",
      "text/plain": [
       "<Figure size 432x288 with 1 Axes>"
      ]
     },
     "metadata": {
      "needs_background": "light"
     },
     "output_type": "display_data"
    }
   ],
   "source": [
    "#plot errors\n",
    "plt.plot(num_latent_feats, all_errs, label='All data accuracy');\n",
    "plt.plot(num_latent_feats, 1 - (np.array(sum_errs_train)/(user_item_train.shape[0]*user_item_train.shape[1])), label='Train accuracy');\n",
    "plt.plot(num_latent_feats, 1 - (np.array(sum_errs_test)/(user_item_test.shape[0]*user_item_test.shape[1])), label='Test accuracy');\n",
    "plt.legend(loc='best')\n",
    "plt.xlabel('Number of Latent Features');\n",
    "plt.ylabel('Accuracy');\n",
    "plt.title('Accuracy vs. Number of Latent Features');\n",
    "plt.show();"
   ]
  },
  {
   "attachments": {
    "1_UJxVqLnbSj42eRhasKeLOA.png": {
     "image/png": "[encoded data removed]"
    }
   },
   "cell_type": "markdown",
   "metadata": {},
   "source": [
    "#### F1 score: Single metric that combines recall and precision using the harmonic mean\n",
    "\n",
    "![1_UJxVqLnbSj42eRhasKeLOA.png](attachment:1_UJxVqLnbSj42eRhasKeLOA.png)"
   ]
  },
  {
   "cell_type": "code",
   "execution_count": 92,
   "metadata": {},
   "outputs": [
    {
     "data": {
      "image/png": "[encoded data removed]",
      "text/plain": [
       "<Figure size 432x288 with 1 Axes>"
      ]
     },
     "metadata": {
      "needs_background": "light"
     },
     "output_type": "display_data"
    }
   ],
   "source": [
    "fig, ax = plt.subplots()\n",
    "ax.plot(num_latent_feats, f1_train, label='Train F1 score')\n",
    "ax.plot(num_latent_feats, f1_test, color='green', label='Test F1 score')\n",
    "ax.legend()\n",
    "ax.set_title('Macro F1 score over Number of Latent Features')\n",
    "ax.grid(linestyle='--')\n",
    "ax.set_xlabel('Number of Latent Features')\n",
    "ax.set_ylabel('Macro F1 score')\n",
    "plt.show()"
   ]
  },
  {
   "attachments": {
    "1_6NkN_LINs2erxgVJ9rkpUA.png": {
     "image/png": "[encoded data removed]"
    }
   },
   "cell_type": "markdown",
   "metadata": {},
   "source": [
    "#### Recall: ability of a classification model to identify all relevant instances\n",
    "#### Precision: ability of a classification model to return only relevant instances\n",
    " \n",
    "![1_6NkN_LINs2erxgVJ9rkpUA.png](attachment:1_6NkN_LINs2erxgVJ9rkpUA.png)"
   ]
  },
  {
   "cell_type": "code",
   "execution_count": 98,
   "metadata": {},
   "outputs": [
    {
     "data": {
      "image/png": "[encoded data removed]",
      "text/plain": [
       "<Figure size 432x288 with 1 Axes>"
      ]
     },
     "metadata": {
      "needs_background": "light"
     },
     "output_type": "display_data"
    }
   ],
   "source": [
    "fig, ax = plt.subplots()\n",
    "ax.plot(num_latent_feats, precision_train, label='Train precision score')\n",
    "ax.plot(num_latent_feats, precision_test, color='green', label='Test precision score')\n",
    "ax.legend()\n",
    "ax.set_title('Macro precision score over Number of Latent Features')\n",
    "ax.grid(linestyle='--')\n",
    "ax.set_xlabel('Number of Latent Features')\n",
    "ax.set_ylabel('Macro precision score')\n",
    "plt.show()"
   ]
  },
  {
   "cell_type": "code",
   "execution_count": 99,
   "metadata": {},
   "outputs": [
    {
     "data": {
      "image/png": "[encoded data removed]",
      "text/plain": [
       "<Figure size 432x288 with 1 Axes>"
      ]
     },
     "metadata": {
      "needs_background": "light"
     },
     "output_type": "display_data"
    }
   ],
   "source": [
    "fig, ax = plt.subplots()\n",
    "ax.plot(num_latent_feats, recall_train, label='Train recall score')\n",
    "ax.plot(num_latent_feats, recall_test, color='green', label='Test recall score')\n",
    "ax.legend()\n",
    "ax.set_title('Macro recall score over Number of Latent Features')\n",
    "ax.grid(linestyle='--')\n",
    "ax.set_xlabel('Number of Latent Features')\n",
    "ax.set_ylabel('Macro recall score')\n",
    "plt.show()"
   ]
  },
  {
   "cell_type": "markdown",
   "metadata": {
    "collapsed": true
   },
   "source": [
    "`6.` Use the cell below to comment on the results you found in the previous question. Given the circumstances of your results, discuss what you might do to determine if the recommendations you make with any of the above recommendation systems are an improvement to how users currently find articles? "
   ]
  },
  {
   "cell_type": "markdown",
   "metadata": {},
   "source": [
    "The model enjoys high accuracy rate, achieving > 99% for both its training and test set. Evidently, overfitting kicks in when latent features exceed 200. However, as a prudent data scientist, we shall be cautious as accuracy is not always a good measure for assessing model performance. Particularly for achieving a near perfect accuracy on both train and test set. The model deserves further investigation. \n",
    "\n",
    "A peek at the model's F1 score, it is hopelessly low. A closer look at its recall and precision scores suggests that the model is unable to predict true positive on unseen data. The model certainly suffers from overfitting. The imbalance dataset (with a large proportion of true negative), it is unable to learn and predict data labelled with positive. As a result the model could just achieve high accuracy rate by simply predicting all data point as \"Negative\". \n",
    "\n",
    "It is understandable that the dataset is imbalance as there are 4487 users in the train set and 714 articles. Certainly we would expect most users to interact only with small portion (a few?) if not zero number of articles out of 714 articles. As such most data is labelled \"negative\" or 0. The articles (label) are simply too many for the model to learn from only 4487 users. \n",
    "\n",
    "As such we need a solution that will tackle imbalance dataset. We may need to rethink about engieering the dataset or its features. Getting more data if it is not too costly. Otherwise, grouping the articles into categories so that we have smaller number of labels to predict and to learn from. When we have a more learnable dataset, sratified sampling may help to ensure more stability during the training by removing the proportions variance inside batches. "
   ]
  },
  {
   "cell_type": "markdown",
   "metadata": {
    "collapsed": true
   },
   "source": [
    "<a id='conclusions'></a>\n",
    "### Extras\n",
    "Using your workbook, you could now save your recommendations for each user, develop a class to make new predictions and update your results, and make a flask app to deploy your results.  These tasks are beyond what is required for this project.  However, from what you learned in the lessons, you certainly capable of taking these tasks on to improve upon your work here!\n",
    "\n",
    "\n",
    "## Conclusion\n",
    "\n",
    "> Congratulations!  You have reached the end of the Recommendations with IBM project! \n",
    "\n",
    "> **Tip**: Once you are satisfied with your work here, check over your report to make sure that it is satisfies all the areas of the [rubric](https://review.udacity.com/#!/rubrics/2322/view). You should also probably remove all of the \"Tips\" like this one so that the presentation is as polished as possible.\n",
    "\n",
    "\n",
    "## Directions to Submit\n",
    "\n",
    "> Before you submit your project, you need to create a .html or .pdf version of this notebook in the workspace here. To do that, run the code cell below. If it worked correctly, you should get a return code of 0, and you should see the generated .html file in the workspace directory (click on the orange Jupyter icon in the upper left).\n",
    "\n",
    "> Alternatively, you can download this report as .html via the **File** > **Download as** submenu, and then manually upload it into the workspace directory by clicking on the orange Jupyter icon in the upper left, then using the Upload button.\n",
    "\n",
    "> Once you've done this, you can submit your project by clicking on the \"Submit Project\" button in the lower right here. This will create and submit a zip file with this .ipynb doc and the .html or .pdf version you created. Congratulations! "
   ]
  },
  {
   "cell_type": "code",
   "execution_count": null,
   "metadata": {
    "collapsed": true
   },
   "outputs": [],
   "source": [
    "from subprocess import call\n",
    "call(['python', '-m', 'nbconvert', 'Recommendations_with_IBM.ipynb'])"
   ]
  }
 ],
 "metadata": {
  "kernelspec": {
   "display_name": "Python 3",
   "language": "python",
   "name": "python3"
  },
  "language_info": {
   "codemirror_mode": {
    "name": "ipython",
    "version": 3
   },
   "file_extension": ".py",
   "mimetype": "text/x-python",
   "name": "python",
   "nbconvert_exporter": "python",
   "pygments_lexer": "ipython3",
   "version": "3.6.6"
  }
 },
 "nbformat": 4,
 "nbformat_minor": 2
}
